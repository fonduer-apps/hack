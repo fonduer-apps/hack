{
 "cells": [
  {
   "cell_type": "markdown",
   "metadata": {},
   "source": [
    "# Extracting Transistor Electrical Characteristics"
   ]
  },
  {
   "cell_type": "markdown",
   "metadata": {},
   "source": [
    "In this notebook, we seek to extract\n",
    "\n",
    "- maximum storage tempurature\n",
    "- minimum storage tempurature\n",
    "- polarity\n",
    "- maximum collector emitter voltage\n",
    "- maximum emitter base voltage\n",
    "- maximum collector current\n",
    "- total device dissipation\n",
    "- minimum dc gain\n",
    "\n"
   ]
  },
  {
   "cell_type": "code",
   "execution_count": 1,
   "metadata": {
    "scrolled": false
   },
   "outputs": [],
   "source": [
    "%load_ext autoreload\n",
    "%autoreload 1\n",
    "%matplotlib inline\n",
    "import os\n",
    "import sys\n",
    "import logging\n",
    "\n",
    "# To allow importing from the general utils\n",
    "sys.path.insert(0, \"..\")\n",
    "\n",
    "# Configure logging for Fonduer\n",
    "logging.basicConfig(\n",
    "    stream=sys.stdout,\n",
    "    format=\"[%(levelname)s] %(name)s:%(lineno)s - %(message)s\",\n",
    "    level=logging.INFO,\n",
    ")\n",
    "logger = logging.getLogger(__name__)\n",
    "\n",
    "# See https://docs.python.org/3/library/os.html#os.cpu_count\n",
    "PARALLEL = len(os.sched_getaffinity(0))\n",
    "COMPONENT = \"transistors\"\n",
    "conn_string = \"postgresql://localhost:5432/\" + COMPONENT"
   ]
  },
  {
   "cell_type": "code",
   "execution_count": 2,
   "metadata": {},
   "outputs": [],
   "source": [
    "# If you've run this before, set FIRST_TIME to False to save time\n",
    "FIRST_TIME = True"
   ]
  },
  {
   "cell_type": "code",
   "execution_count": 3,
   "metadata": {
    "scrolled": false
   },
   "outputs": [
    {
     "name": "stdout",
     "output_type": "stream",
     "text": [
      "[INFO] fonduer.meta:86 - Connecting user:None to localhost:5432/transistors\n",
      "[INFO] fonduer.meta:110 - Initializing the storage schema\n"
     ]
    }
   ],
   "source": [
    "from fonduer import Meta\n",
    "\n",
    "session = Meta.init(conn_string).Session()"
   ]
  },
  {
   "cell_type": "code",
   "execution_count": 4,
   "metadata": {},
   "outputs": [
    {
     "name": "stdout",
     "output_type": "stream",
     "text": [
      "[INFO] utils.utils:37 - Parsing dataset...\n",
      "[INFO] utils.utils:39 - Parsing dev...\n",
      "[INFO] fonduer.utils.udf:57 - Running UDF...\n"
     ]
    },
    {
     "data": {
      "application/vnd.jupyter.widget-view+json": {
       "model_id": "28df18ced1fa4d3bb2cd4f7dfd7846ba",
       "version_major": 2,
       "version_minor": 0
      },
      "text/plain": [
       "HBox(children=(IntProgress(value=0), HTML(value='')))"
      ]
     },
     "metadata": {},
     "output_type": "display_data"
    },
    {
     "name": "stdout",
     "output_type": "stream",
     "text": [
      "\n",
      "[INFO] utils.utils:39 - Parsing test...\n",
      "[INFO] fonduer.utils.udf:57 - Running UDF...\n"
     ]
    },
    {
     "data": {
      "application/vnd.jupyter.widget-view+json": {
       "model_id": "20ce418f68a54bb5b7ab0bdeee46c114",
       "version_major": 2,
       "version_minor": 0
      },
      "text/plain": [
       "HBox(children=(IntProgress(value=0, max=75), HTML(value='')))"
      ]
     },
     "metadata": {},
     "output_type": "display_data"
    },
    {
     "name": "stdout",
     "output_type": "stream",
     "text": [
      "\n",
      "[INFO] utils.utils:39 - Parsing train...\n",
      "[INFO] fonduer.utils.udf:57 - Running UDF...\n"
     ]
    },
    {
     "data": {
      "application/vnd.jupyter.widget-view+json": {
       "model_id": "aa55edecf729406e97f49f512fe1fa7f",
       "version_major": 2,
       "version_minor": 0
      },
      "text/plain": [
       "HBox(children=(IntProgress(value=0), HTML(value='')))"
      ]
     },
     "metadata": {},
     "output_type": "display_data"
    },
    {
     "name": "stdout",
     "output_type": "stream",
     "text": [
      "\n",
      "[INFO] __main__:3 - # of train Documents:\t100\n",
      "[INFO] __main__:4 - # of dev Documents:\t100\n",
      "[INFO] __main__:5 - # of test Documents:\t75\n"
     ]
    }
   ],
   "source": [
    "from utils import parse_dataset\n",
    "docs, train_docs, dev_docs, test_docs = parse_dataset(session, first_time=FIRST_TIME, max_docs=100, parallel=PARALLEL)\n",
    "logger.info(f\"# of train Documents:\\t{len(train_docs)}\")\n",
    "logger.info(f\"# of dev Documents:\\t{len(dev_docs)}\")\n",
    "logger.info(f\"# of test Documents:\\t{len(test_docs)}\")"
   ]
  },
  {
   "cell_type": "code",
   "execution_count": 5,
   "metadata": {
    "scrolled": false
   },
   "outputs": [
    {
     "name": "stdout",
     "output_type": "stream",
     "text": [
      "[INFO] __main__:3 - Documents:\t275\n",
      "[INFO] __main__:4 - Sections:\t275\n",
      "[INFO] __main__:5 - Paragraphs:\t136992\n",
      "[INFO] __main__:6 - Sentences:\t141638\n",
      "[INFO] __main__:7 - Figures:\t7440\n"
     ]
    }
   ],
   "source": [
    "from fonduer.parser.models import Document, Section, Paragraph, Sentence, Figure\n",
    "\n",
    "logger.info(f\"Documents:\\t{session.query(Document).count()}\")\n",
    "logger.info(f\"Sections:\\t{session.query(Section).count()}\")\n",
    "logger.info(f\"Paragraphs:\\t{session.query(Paragraph).count()}\")\n",
    "logger.info(f\"Sentences:\\t{session.query(Sentence).count()}\")\n",
    "logger.info(f\"Figures:\\t{session.query(Figure).count()}\")"
   ]
  },
  {
   "cell_type": "markdown",
   "metadata": {},
   "source": [
    "# Phase 2: Mention Extraction, Candidate Extraction Multimodal Featurization\n",
    "\n",
    "Given the unified data model from Phase 1, `Fonduer` extracts relation\n",
    "candidates based on user-provided **matchers** and **throttlers**. Then,\n",
    "`Fonduer` leverages the multimodality information captured in the unified data\n",
    "model to provide multimodal features for each candidate.\n",
    "\n",
    "## 2.1 Mention Extraction\n",
    "\n",
    "The first step is to extract **mentions** from our corpus. A `mention` is the\n",
    "type of object which makes up a `candidate`. For example, if we wanted to\n",
    "extract pairs of transistor part numbers and their corresponding maximum\n",
    "storage temperatures, the transistor part number would be one `mention` while\n",
    "the temperature value would be another. These `mention`s are then combined to\n",
    "create `candidates`, where our task is to predict which `candidates` are true\n",
    "in the associated document.\n",
    "\n",
    "We first start by defining and naming our two `mention`s:"
   ]
  },
  {
   "cell_type": "code",
   "execution_count": 6,
   "metadata": {},
   "outputs": [],
   "source": [
    "from fonduer.candidates.models import mention_subclass\n",
    "\n",
    "Part = mention_subclass(\"Part\")\n",
    "Temp = mention_subclass(\"Temp\")"
   ]
  },
  {
   "cell_type": "code",
   "execution_count": 7,
   "metadata": {},
   "outputs": [],
   "source": [
    "from transistor_matchers import get_matcher\n",
    "temp_matcher = get_matcher(\"temp\")"
   ]
  },
  {
   "cell_type": "code",
   "execution_count": 8,
   "metadata": {},
   "outputs": [],
   "source": [
    "part_matcher = get_matcher(\"part\")"
   ]
  },
  {
   "cell_type": "markdown",
   "metadata": {},
   "source": [
    "These two matchers define each entity in our relation schema."
   ]
  },
  {
   "cell_type": "markdown",
   "metadata": {},
   "source": [
    "### Define a Mention's `MentionSpace`\n",
    "\n",
    "Next, in order to define the \"space\" of all mentions that are even considered\n",
    "from the document, we need to define a `MentionSpace` for each component of the\n",
    "relation we wish to extract. Fonduer provides a default `MentionSpace` for you\n",
    "to use, but you can also extend the default `MentionSpace` depending on your\n",
    "needs.\n",
    "\n",
    "In the case of transistor part numbers, the `MentionSpace` can be quite complex\n",
    "due to the need to handle implicit part numbers that are implied in text like\n",
    "\"BC546A/B/C...BC548A/B/C\", which refers to 9 unique part numbers. To handle\n",
    "these, we consider all n-grams up to 3 words long.\n",
    "\n",
    "In contrast, the `MentionSpace` for temperature values is simpler: we only need\n",
    "to process different Unicode representations of a (`-`), and don't need to look\n",
    "at more than two words at a time.\n",
    "\n",
    "When no special preprocessing like this is needed, we could have used the\n",
    "default `Ngrams` class provided by `fonduer`. For example, if we were looking\n",
    "to match polarities, which only take the form of \"NPN\" or \"PNP\", we could've\n",
    "used `ngrams = MentionNgrams(n_max=1)`."
   ]
  },
  {
   "cell_type": "code",
   "execution_count": 9,
   "metadata": {},
   "outputs": [],
   "source": [
    "from transistor_spaces import MentionNgramsPart, MentionNgramsTemp\n",
    "    \n",
    "part_ngrams = MentionNgramsPart(parts_by_doc=None, n_max=3)\n",
    "temp_ngrams = MentionNgramsTemp(n_max=2)"
   ]
  },
  {
   "cell_type": "markdown",
   "metadata": {},
   "source": [
    "### Running Mention Extraction \n",
    "\n",
    "Next, we create a `MentionExtractor` to extract the mentions from all of\n",
    "our documents based on the `MentionSpace` and matchers we defined above.\n",
    "\n",
    "View the API for the MentionExtractor on [ReadTheDocs](https://fonduer.readthedocs.io/en/latest/user/candidates.html#fonduer.candidates.MentionExtractor).\n"
   ]
  },
  {
   "cell_type": "code",
   "execution_count": 10,
   "metadata": {},
   "outputs": [],
   "source": [
    "from fonduer.candidates import MentionExtractor \n",
    "\n",
    "mention_extractor = MentionExtractor(\n",
    "    session, [Part, Temp], [part_ngrams, temp_ngrams], [part_matcher, temp_matcher]\n",
    ")"
   ]
  },
  {
   "cell_type": "markdown",
   "metadata": {},
   "source": [
    "Then, we run the extractor on all of our documents."
   ]
  },
  {
   "cell_type": "code",
   "execution_count": 11,
   "metadata": {},
   "outputs": [
    {
     "name": "stdout",
     "output_type": "stream",
     "text": [
      "[INFO] fonduer.candidates.mentions:460 - Clearing table: part\n",
      "[INFO] fonduer.candidates.mentions:460 - Clearing table: temp\n",
      "[INFO] fonduer.utils.udf:57 - Running UDF...\n"
     ]
    },
    {
     "data": {
      "application/vnd.jupyter.widget-view+json": {
       "model_id": "1a86ed46240e40d89098592f9a04bf15",
       "version_major": 2,
       "version_minor": 0
      },
      "text/plain": [
       "HBox(children=(IntProgress(value=0, max=275), HTML(value='')))"
      ]
     },
     "metadata": {},
     "output_type": "display_data"
    },
    {
     "name": "stdout",
     "output_type": "stream",
     "text": [
      "\n",
      "[INFO] __main__:6 - Total Mentions: 9378\n"
     ]
    }
   ],
   "source": [
    "from fonduer.candidates.models import Mention\n",
    "\n",
    "if FIRST_TIME:\n",
    "    mention_extractor.apply(docs, parallelism=PARALLEL)\n",
    "\n",
    "logger.info(f\"Total Mentions: {session.query(Mention).count()}\")"
   ]
  },
  {
   "cell_type": "markdown",
   "metadata": {},
   "source": [
    "## 2.2 Candidate Extraction\n",
    "\n",
    "Now that we have both defined and extracted the Mentions that can be used to compose Candidates, we are ready to move on to extracting Candidates. Like we did with the Mentions, we first define what each candidate schema looks like. In this example, we create a candidate that is composed of a `Part` and a `Temp` mention as we defined above. We name this candidate \"PartTemp\"."
   ]
  },
  {
   "cell_type": "code",
   "execution_count": 12,
   "metadata": {},
   "outputs": [],
   "source": [
    "from fonduer.candidates.models import candidate_subclass\n",
    "\n",
    "PartTemp = candidate_subclass(\"PartTemp\", [Part, Temp])"
   ]
  },
  {
   "cell_type": "markdown",
   "metadata": {},
   "source": [
    "### Defining candidate `Throttlers`\n",
    "\n",
    "Next, we need to define **throttlers**, which allow us to further prune excess candidates and avoid unnecessarily materializing invalid candidates. Throttlers, like matchers, act as hard filters, and should be created to have high precision while maintaining complete recall, if possible.\n",
    "\n",
    "Here, we create a throttler that discards candidates if they are in the same table, but the part and storage temperature are not vertically or horizontally aligned."
   ]
  },
  {
   "cell_type": "code",
   "execution_count": 13,
   "metadata": {},
   "outputs": [],
   "source": [
    "from transistor_throttlers import stg_temp_filter\n",
    "\n",
    "temp_throttler = stg_temp_filter"
   ]
  },
  {
   "cell_type": "markdown",
   "metadata": {},
   "source": [
    "### Running the `CandidateExtractor`\n",
    "\n",
    "Now, we have all the component necessary to perform candidate extraction. We have defined the Mentions that compose each candidate and a throttler to prunes away excess candidates. We now can define the `CandidateExtractor` with the candidate subclass and corresponding throttler to use.\n",
    "\n",
    "View the API for the CandidateExtractor on [ReadTheDocs](https://fonduer.readthedocs.io/en/docstrings/user/candidates.html#fonduer.candidates.CandidateExtractor)."
   ]
  },
  {
   "cell_type": "code",
   "execution_count": 14,
   "metadata": {
    "scrolled": false
   },
   "outputs": [],
   "source": [
    "from fonduer.candidates import CandidateExtractor\n",
    "\n",
    "\n",
    "candidate_extractor = CandidateExtractor(session, [PartTemp], throttlers=[temp_throttler])"
   ]
  },
  {
   "cell_type": "markdown",
   "metadata": {},
   "source": [
    "Here we specified that these `Candidates` belong to the training set by specifying `split=0`; recall that we're referring to train/dev/test as splits 0/1/2."
   ]
  },
  {
   "cell_type": "code",
   "execution_count": 15,
   "metadata": {},
   "outputs": [
    {
     "name": "stdout",
     "output_type": "stream",
     "text": [
      "[INFO] fonduer.candidates.candidates:125 - Clearing table part_temp (split 0)\n",
      "[INFO] fonduer.utils.udf:57 - Running UDF...\n"
     ]
    },
    {
     "data": {
      "application/vnd.jupyter.widget-view+json": {
       "model_id": "ac6c76aad6a74ad190874aa7daa6fd61",
       "version_major": 2,
       "version_minor": 0
      },
      "text/plain": [
       "HBox(children=(IntProgress(value=0), HTML(value='')))"
      ]
     },
     "metadata": {},
     "output_type": "display_data"
    },
    {
     "name": "stdout",
     "output_type": "stream",
     "text": [
      "\n",
      "[INFO] __main__:4 - Number of Candidates in split=0: 76751\n",
      "[INFO] fonduer.candidates.candidates:125 - Clearing table part_temp (split 1)\n",
      "[INFO] fonduer.utils.udf:57 - Running UDF...\n"
     ]
    },
    {
     "data": {
      "application/vnd.jupyter.widget-view+json": {
       "model_id": "f0f81e9ffbec40668d9ed660e8f527cf",
       "version_major": 2,
       "version_minor": 0
      },
      "text/plain": [
       "HBox(children=(IntProgress(value=0), HTML(value='')))"
      ]
     },
     "metadata": {},
     "output_type": "display_data"
    },
    {
     "name": "stdout",
     "output_type": "stream",
     "text": [
      "\n",
      "[INFO] __main__:4 - Number of Candidates in split=1: 43473\n",
      "[INFO] fonduer.candidates.candidates:125 - Clearing table part_temp (split 2)\n",
      "[INFO] fonduer.utils.udf:57 - Running UDF...\n"
     ]
    },
    {
     "data": {
      "application/vnd.jupyter.widget-view+json": {
       "model_id": "53dee6ee250946e29ca00dc67830f515",
       "version_major": 2,
       "version_minor": 0
      },
      "text/plain": [
       "HBox(children=(IntProgress(value=0, max=75), HTML(value='')))"
      ]
     },
     "metadata": {},
     "output_type": "display_data"
    },
    {
     "name": "stdout",
     "output_type": "stream",
     "text": [
      "\n",
      "[INFO] __main__:4 - Number of Candidates in split=2: 8045\n",
      "[INFO] __main__:10 - Total train candidate:\t76751\n",
      "[INFO] __main__:11 - Total dev candidate:\t43473\n",
      "[INFO] __main__:12 - Total test candidate:\t8045\n"
     ]
    }
   ],
   "source": [
    "if FIRST_TIME:\n",
    "    for i, docs in enumerate([train_docs, dev_docs, test_docs]):\n",
    "        candidate_extractor.apply(docs, split=i, parallelism=PARALLEL)\n",
    "        logger.info(\"Number of Candidates in split={}: {}\".format(i, session.query(PartTemp).filter(PartTemp.split == i).count()))\n",
    "\n",
    "train_cands = candidate_extractor.get_candidates(split = 0)\n",
    "dev_cands = candidate_extractor.get_candidates(split = 1)\n",
    "test_cands = candidate_extractor.get_candidates(split = 2)\n",
    "\n",
    "logger.info(f\"Total train candidate:\\t{len(train_cands[0])}\")\n",
    "logger.info(f\"Total dev candidate:\\t{len(dev_cands[0])}\")\n",
    "logger.info(f\"Total test candidate:\\t{len(test_cands[0])}\")"
   ]
  },
  {
   "cell_type": "markdown",
   "metadata": {},
   "source": [
    "## 2.2 Multimodal Featurization\n",
    "Unlike dealing with plain unstructured text, `Fonduer` deals with richly formatted data, and consequently featurizes each candidate with a baseline library of multimodal features. \n",
    "\n",
    "### Featurize with `Fonduer`'s optimized Postgres Featurizer\n",
    "We now annotate the candidates in our training, dev, and test sets with features. The `Featurizer` provided by `Fonduer` allows this to be done in parallel to improve performance.\n",
    "\n",
    "View the API provided by the `Featurizer` on [ReadTheDocs](https://fonduer.readthedocs.io/en/latest/user/features.html#fonduer.features.Featurizer)."
   ]
  },
  {
   "cell_type": "code",
   "execution_count": 16,
   "metadata": {},
   "outputs": [
    {
     "name": "stdout",
     "output_type": "stream",
     "text": [
      "[INFO] fonduer.features.featurizer:189 - Clearing Features (split 0)\n",
      "[INFO] fonduer.utils.udf:57 - Running UDF...\n"
     ]
    },
    {
     "data": {
      "application/vnd.jupyter.widget-view+json": {
       "model_id": "257091d81a524eb09128b2f8ddeae340",
       "version_major": 2,
       "version_minor": 0
      },
      "text/plain": [
       "HBox(children=(IntProgress(value=0, max=96), HTML(value='')))"
      ]
     },
     "metadata": {},
     "output_type": "display_data"
    },
    {
     "name": "stdout",
     "output_type": "stream",
     "text": [
      "\n",
      "CPU times: user 2.28 s, sys: 248 ms, total: 2.52 s\n",
      "Wall time: 8min 58s\n",
      "[INFO] fonduer.features.featurizer:189 - Clearing Features (split 1)\n",
      "[INFO] fonduer.utils.udf:57 - Running UDF...\n"
     ]
    },
    {
     "data": {
      "application/vnd.jupyter.widget-view+json": {
       "model_id": "55022db200ec4a908a5cf200aa6682fa",
       "version_major": 2,
       "version_minor": 0
      },
      "text/plain": [
       "HBox(children=(IntProgress(value=0, max=99), HTML(value='')))"
      ]
     },
     "metadata": {},
     "output_type": "display_data"
    },
    {
     "name": "stdout",
     "output_type": "stream",
     "text": [
      "\n",
      "CPU times: user 1.7 s, sys: 223 ms, total: 1.92 s\n",
      "Wall time: 5min 5s\n",
      "[INFO] fonduer.features.featurizer:189 - Clearing Features (split 2)\n",
      "[INFO] fonduer.utils.udf:57 - Running UDF...\n"
     ]
    },
    {
     "data": {
      "application/vnd.jupyter.widget-view+json": {
       "model_id": "050c2d839b5f41a492b51b801a32b0de",
       "version_major": 2,
       "version_minor": 0
      },
      "text/plain": [
       "HBox(children=(IntProgress(value=0, max=74), HTML(value='')))"
      ]
     },
     "metadata": {},
     "output_type": "display_data"
    },
    {
     "name": "stdout",
     "output_type": "stream",
     "text": [
      "\n",
      "CPU times: user 907 ms, sys: 206 ms, total: 1.11 s\n",
      "Wall time: 2min 15s\n",
      "CPU times: user 2min 2s, sys: 6.13 s, total: 2min 8s\n",
      "Wall time: 2min 50s\n",
      "CPU times: user 1min 4s, sys: 3.27 s, total: 1min 8s\n",
      "Wall time: 1min 30s\n",
      "CPU times: user 13.3 s, sys: 666 ms, total: 14 s\n",
      "Wall time: 18.1 s\n",
      "[INFO] __main__:13 - Train shape:\t(76751, 17223)\n",
      "[INFO] __main__:14 - Test shape:\t(8045, 17223)\n",
      "[INFO] __main__:15 - Dev shape:\t(43473, 17223)\n"
     ]
    }
   ],
   "source": [
    "from fonduer.features import Featurizer\n",
    "\n",
    "featurizer = Featurizer(session, [PartTemp])\n",
    "if FIRST_TIME:\n",
    "    %time featurizer.apply(split=0, train=True, parallelism=PARALLEL)\n",
    "    %time featurizer.apply(split=1, parallelism=PARALLEL)\n",
    "    %time featurizer.apply(split=2, parallelism=PARALLEL)\n",
    "\n",
    "%time F_train = featurizer.get_feature_matrices(train_cands)\n",
    "%time F_dev = featurizer.get_feature_matrices(dev_cands)\n",
    "%time F_test = featurizer.get_feature_matrices(test_cands)\n",
    "\n",
    "logger.info(f\"Train shape:\\t{F_train[0].shape}\")\n",
    "logger.info(f\"Test shape:\\t{F_test[0].shape}\")\n",
    "logger.info(f\"Dev shape:\\t{F_dev[0].shape}\")"
   ]
  },
  {
   "cell_type": "code",
   "execution_count": 17,
   "metadata": {},
   "outputs": [
    {
     "name": "stdout",
     "output_type": "stream",
     "text": [
      "[INFO] transistor_utils:85 - Loading 128269 candidate labels\n"
     ]
    },
    {
     "data": {
      "application/vnd.jupyter.widget-view+json": {
       "model_id": "0d016430f02a404d94325c08cf564857",
       "version_major": 2,
       "version_minor": 0
      },
      "text/plain": [
       "HBox(children=(IntProgress(value=0, max=128269), HTML(value='')))"
      ]
     },
     "metadata": {},
     "output_type": "display_data"
    },
    {
     "name": "stdout",
     "output_type": "stream",
     "text": [
      "\n",
      "[INFO] transistor_utils:115 - GoldLabels created: 128269\n"
     ]
    }
   ],
   "source": [
    "from transistor_utils import load_hardware_labels, TRUE, FALSE, ABSTAIN\n",
    "\n",
    "if FIRST_TIME:\n",
    "    load_hardware_labels(session, PartTemp, \"stg_temp_max\" ,annotator_name='gold')"
   ]
  },
  {
   "cell_type": "code",
   "execution_count": 18,
   "metadata": {},
   "outputs": [
    {
     "name": "stdout",
     "output_type": "stream",
     "text": [
      "[INFO] fonduer.supervision.labeler:232 - Clearing Labels (split 0)\n",
      "[INFO] fonduer.utils.udf:57 - Running UDF...\n"
     ]
    },
    {
     "data": {
      "application/vnd.jupyter.widget-view+json": {
       "model_id": "59496a385d4445e6914396d74ed3c23c",
       "version_major": 2,
       "version_minor": 0
      },
      "text/plain": [
       "HBox(children=(IntProgress(value=0, max=96), HTML(value='')))"
      ]
     },
     "metadata": {},
     "output_type": "display_data"
    },
    {
     "name": "stdout",
     "output_type": "stream",
     "text": [
      "\n",
      "CPU times: user 2.65 s, sys: 343 ms, total: 2.99 s\n",
      "Wall time: 47min 46s\n",
      "CPU times: user 1min 40s, sys: 5.31 s, total: 1min 46s\n",
      "Wall time: 2min 19s\n"
     ]
    }
   ],
   "source": [
    "from fonduer.supervision import Labeler\n",
    "from transistor_lfs import stg_temp_lfs\n",
    "\n",
    "labeler = Labeler(session, [PartTemp])\n",
    "if FIRST_TIME:\n",
    "    %time labeler.apply(split=0, lfs=[stg_temp_lfs], train=True, parallelism=PARALLEL)\n",
    "%time L_train = labeler.get_label_matrices(train_cands)"
   ]
  },
  {
   "cell_type": "code",
   "execution_count": 19,
   "metadata": {},
   "outputs": [],
   "source": [
    "from fonduer.supervision import get_gold_labels\n",
    "L_gold_train = get_gold_labels(session, train_cands, annotator_name='gold')"
   ]
  },
  {
   "cell_type": "code",
   "execution_count": 20,
   "metadata": {},
   "outputs": [
    {
     "data": {
      "text/html": [
       "<div>\n",
       "<style scoped>\n",
       "    .dataframe tbody tr th:only-of-type {\n",
       "        vertical-align: middle;\n",
       "    }\n",
       "\n",
       "    .dataframe tbody tr th {\n",
       "        vertical-align: top;\n",
       "    }\n",
       "\n",
       "    .dataframe thead th {\n",
       "        text-align: right;\n",
       "    }\n",
       "</style>\n",
       "<table border=\"1\" class=\"dataframe\">\n",
       "  <thead>\n",
       "    <tr style=\"text-align: right;\">\n",
       "      <th></th>\n",
       "      <th>j</th>\n",
       "      <th>Polarity</th>\n",
       "      <th>Coverage</th>\n",
       "      <th>Overlaps</th>\n",
       "      <th>Conflicts</th>\n",
       "      <th>Correct</th>\n",
       "      <th>Incorrect</th>\n",
       "      <th>Emp. Acc.</th>\n",
       "    </tr>\n",
       "  </thead>\n",
       "  <tbody>\n",
       "    <tr>\n",
       "      <th>LabelKey (LF_collector_aligned)</th>\n",
       "      <td>0</td>\n",
       "      <td>1</td>\n",
       "      <td>0.041993</td>\n",
       "      <td>0.041993</td>\n",
       "      <td>0.001433</td>\n",
       "      <td>3223</td>\n",
       "      <td>0</td>\n",
       "      <td>1.0</td>\n",
       "    </tr>\n",
       "    <tr>\n",
       "      <th>LabelKey (LF_complement_left_row)</th>\n",
       "      <td>1</td>\n",
       "      <td>1</td>\n",
       "      <td>0.000495</td>\n",
       "      <td>0.000495</td>\n",
       "      <td>0.000130</td>\n",
       "      <td>38</td>\n",
       "      <td>0</td>\n",
       "      <td>1.0</td>\n",
       "    </tr>\n",
       "    <tr>\n",
       "      <th>LabelKey (LF_current_aligned)</th>\n",
       "      <td>2</td>\n",
       "      <td>1</td>\n",
       "      <td>0.429532</td>\n",
       "      <td>0.429532</td>\n",
       "      <td>0.011857</td>\n",
       "      <td>32967</td>\n",
       "      <td>0</td>\n",
       "      <td>1.0</td>\n",
       "    </tr>\n",
       "    <tr>\n",
       "      <th>LabelKey (LF_negative_number_left)</th>\n",
       "      <td>3</td>\n",
       "      <td>2</td>\n",
       "      <td>0.040208</td>\n",
       "      <td>0.040208</td>\n",
       "      <td>0.040208</td>\n",
       "      <td>0</td>\n",
       "      <td>3086</td>\n",
       "      <td>0.0</td>\n",
       "    </tr>\n",
       "    <tr>\n",
       "      <th>LabelKey (LF_not_temp_relevant)</th>\n",
       "      <td>4</td>\n",
       "      <td>1</td>\n",
       "      <td>0.931871</td>\n",
       "      <td>0.931871</td>\n",
       "      <td>0.001590</td>\n",
       "      <td>71522</td>\n",
       "      <td>0</td>\n",
       "      <td>1.0</td>\n",
       "    </tr>\n",
       "    <tr>\n",
       "      <th>LabelKey (LF_operating_row)</th>\n",
       "      <td>5</td>\n",
       "      <td>2</td>\n",
       "      <td>0.049042</td>\n",
       "      <td>0.049042</td>\n",
       "      <td>0.049042</td>\n",
       "      <td>0</td>\n",
       "      <td>3764</td>\n",
       "      <td>0.0</td>\n",
       "    </tr>\n",
       "    <tr>\n",
       "      <th>LabelKey (LF_storage_row)</th>\n",
       "      <td>6</td>\n",
       "      <td>2</td>\n",
       "      <td>0.060703</td>\n",
       "      <td>0.060703</td>\n",
       "      <td>0.060703</td>\n",
       "      <td>0</td>\n",
       "      <td>4659</td>\n",
       "      <td>0.0</td>\n",
       "    </tr>\n",
       "    <tr>\n",
       "      <th>LabelKey (LF_temperature_row)</th>\n",
       "      <td>7</td>\n",
       "      <td>2</td>\n",
       "      <td>0.054097</td>\n",
       "      <td>0.054097</td>\n",
       "      <td>0.054097</td>\n",
       "      <td>0</td>\n",
       "      <td>4152</td>\n",
       "      <td>0.0</td>\n",
       "    </tr>\n",
       "    <tr>\n",
       "      <th>LabelKey (LF_temp_on_high_page_num)</th>\n",
       "      <td>8</td>\n",
       "      <td>1</td>\n",
       "      <td>0.620292</td>\n",
       "      <td>0.620292</td>\n",
       "      <td>0.009407</td>\n",
       "      <td>47608</td>\n",
       "      <td>0</td>\n",
       "      <td>1.0</td>\n",
       "    </tr>\n",
       "    <tr>\n",
       "      <th>LabelKey (LF_temp_outside_table)</th>\n",
       "      <td>9</td>\n",
       "      <td>1</td>\n",
       "      <td>1.000000</td>\n",
       "      <td>1.000000</td>\n",
       "      <td>0.069719</td>\n",
       "      <td>76751</td>\n",
       "      <td>0</td>\n",
       "      <td>1.0</td>\n",
       "    </tr>\n",
       "    <tr>\n",
       "      <th>LabelKey (LF_test_condition_aligned)</th>\n",
       "      <td>10</td>\n",
       "      <td>1</td>\n",
       "      <td>0.030632</td>\n",
       "      <td>0.030632</td>\n",
       "      <td>0.003205</td>\n",
       "      <td>2351</td>\n",
       "      <td>0</td>\n",
       "      <td>1.0</td>\n",
       "    </tr>\n",
       "    <tr>\n",
       "      <th>LabelKey (LF_to_left)</th>\n",
       "      <td>11</td>\n",
       "      <td>2</td>\n",
       "      <td>0.046071</td>\n",
       "      <td>0.046071</td>\n",
       "      <td>0.046071</td>\n",
       "      <td>0</td>\n",
       "      <td>3536</td>\n",
       "      <td>0.0</td>\n",
       "    </tr>\n",
       "    <tr>\n",
       "      <th>LabelKey (LF_tstg_row)</th>\n",
       "      <td>12</td>\n",
       "      <td>2</td>\n",
       "      <td>0.059426</td>\n",
       "      <td>0.059426</td>\n",
       "      <td>0.059426</td>\n",
       "      <td>0</td>\n",
       "      <td>4561</td>\n",
       "      <td>0.0</td>\n",
       "    </tr>\n",
       "    <tr>\n",
       "      <th>LabelKey (LF_typ_row)</th>\n",
       "      <td>13</td>\n",
       "      <td>1</td>\n",
       "      <td>0.000156</td>\n",
       "      <td>0.000156</td>\n",
       "      <td>0.000000</td>\n",
       "      <td>12</td>\n",
       "      <td>0</td>\n",
       "      <td>1.0</td>\n",
       "    </tr>\n",
       "    <tr>\n",
       "      <th>LabelKey (LF_voltage_row_part)</th>\n",
       "      <td>14</td>\n",
       "      <td>1</td>\n",
       "      <td>0.163242</td>\n",
       "      <td>0.163242</td>\n",
       "      <td>0.007726</td>\n",
       "      <td>12529</td>\n",
       "      <td>0</td>\n",
       "      <td>1.0</td>\n",
       "    </tr>\n",
       "    <tr>\n",
       "      <th>LabelKey (LF_voltage_row_temp)</th>\n",
       "      <td>15</td>\n",
       "      <td>1</td>\n",
       "      <td>0.163242</td>\n",
       "      <td>0.163242</td>\n",
       "      <td>0.007726</td>\n",
       "      <td>12529</td>\n",
       "      <td>0</td>\n",
       "      <td>1.0</td>\n",
       "    </tr>\n",
       "  </tbody>\n",
       "</table>\n",
       "</div>"
      ],
      "text/plain": [
       "                                       j  Polarity  Coverage  Overlaps  \\\n",
       "LabelKey (LF_collector_aligned)        0         1  0.041993  0.041993   \n",
       "LabelKey (LF_complement_left_row)      1         1  0.000495  0.000495   \n",
       "LabelKey (LF_current_aligned)          2         1  0.429532  0.429532   \n",
       "LabelKey (LF_negative_number_left)     3         2  0.040208  0.040208   \n",
       "LabelKey (LF_not_temp_relevant)        4         1  0.931871  0.931871   \n",
       "LabelKey (LF_operating_row)            5         2  0.049042  0.049042   \n",
       "LabelKey (LF_storage_row)              6         2  0.060703  0.060703   \n",
       "LabelKey (LF_temperature_row)          7         2  0.054097  0.054097   \n",
       "LabelKey (LF_temp_on_high_page_num)    8         1  0.620292  0.620292   \n",
       "LabelKey (LF_temp_outside_table)       9         1  1.000000  1.000000   \n",
       "LabelKey (LF_test_condition_aligned)  10         1  0.030632  0.030632   \n",
       "LabelKey (LF_to_left)                 11         2  0.046071  0.046071   \n",
       "LabelKey (LF_tstg_row)                12         2  0.059426  0.059426   \n",
       "LabelKey (LF_typ_row)                 13         1  0.000156  0.000156   \n",
       "LabelKey (LF_voltage_row_part)        14         1  0.163242  0.163242   \n",
       "LabelKey (LF_voltage_row_temp)        15         1  0.163242  0.163242   \n",
       "\n",
       "                                      Conflicts  Correct  Incorrect  Emp. Acc.  \n",
       "LabelKey (LF_collector_aligned)        0.001433     3223          0        1.0  \n",
       "LabelKey (LF_complement_left_row)      0.000130       38          0        1.0  \n",
       "LabelKey (LF_current_aligned)          0.011857    32967          0        1.0  \n",
       "LabelKey (LF_negative_number_left)     0.040208        0       3086        0.0  \n",
       "LabelKey (LF_not_temp_relevant)        0.001590    71522          0        1.0  \n",
       "LabelKey (LF_operating_row)            0.049042        0       3764        0.0  \n",
       "LabelKey (LF_storage_row)              0.060703        0       4659        0.0  \n",
       "LabelKey (LF_temperature_row)          0.054097        0       4152        0.0  \n",
       "LabelKey (LF_temp_on_high_page_num)    0.009407    47608          0        1.0  \n",
       "LabelKey (LF_temp_outside_table)       0.069719    76751          0        1.0  \n",
       "LabelKey (LF_test_condition_aligned)   0.003205     2351          0        1.0  \n",
       "LabelKey (LF_to_left)                  0.046071        0       3536        0.0  \n",
       "LabelKey (LF_tstg_row)                 0.059426        0       4561        0.0  \n",
       "LabelKey (LF_typ_row)                  0.000000       12          0        1.0  \n",
       "LabelKey (LF_voltage_row_part)         0.007726    12529          0        1.0  \n",
       "LabelKey (LF_voltage_row_temp)         0.007726    12529          0        1.0  "
      ]
     },
     "execution_count": 20,
     "metadata": {},
     "output_type": "execute_result"
    }
   ],
   "source": [
    "from metal import analysis\n",
    "\n",
    "analysis.lf_summary(L_train[0], lf_names=labeler.get_keys(), Y=L_gold_train[0].todense().reshape(-1,).tolist()[0])"
   ]
  },
  {
   "cell_type": "markdown",
   "metadata": {},
   "source": [
    "### Fitting the Generative Model\n",
    "\n",
    "Now, we'll train a model of the LFs to estimate their accuracies. Once the model is trained, we can combine the outputs of the LFs into a single, noise-aware training label set for our extractor. Intuitively, we'll model the LFs by observing how they overlap and conflict with each other. To do so, we use [MeTaL](https://github.com/HazyResearch/metal)'s single-task label model."
   ]
  },
  {
   "cell_type": "code",
   "execution_count": 21,
   "metadata": {},
   "outputs": [
    {
     "name": "stdout",
     "output_type": "stream",
     "text": [
      "Computing O...\n",
      "Estimating \\mu...\n",
      "[E:0]\tTrain Loss: 4.653\n",
      "[E:100]\tTrain Loss: 0.054\n",
      "[E:200]\tTrain Loss: 0.049\n",
      "[E:300]\tTrain Loss: 0.049\n",
      "[E:400]\tTrain Loss: 0.049\n",
      "[E:499]\tTrain Loss: 0.049\n",
      "Finished Training\n",
      "CPU times: user 774 ms, sys: 29 ms, total: 803 ms\n",
      "Wall time: 446 ms\n"
     ]
    }
   ],
   "source": [
    "from metal.label_model import LabelModel\n",
    "\n",
    "gen_model = LabelModel(k=2)\n",
    "%time gen_model.train_model(L_train[0], n_epochs=500, print_every=100)"
   ]
  },
  {
   "cell_type": "markdown",
   "metadata": {},
   "source": [
    "We now apply the generative model to the training candidates to get the noise-aware training label set. We'll refer to these as the training marginals:"
   ]
  },
  {
   "cell_type": "code",
   "execution_count": 22,
   "metadata": {},
   "outputs": [],
   "source": [
    "train_marginals = gen_model.predict_proba(L_train[0])"
   ]
  },
  {
   "cell_type": "markdown",
   "metadata": {},
   "source": [
    "We'll look at the distribution of the training marginals:"
   ]
  },
  {
   "cell_type": "code",
   "execution_count": 23,
   "metadata": {},
   "outputs": [
    {
     "data": {
      "image/png": "[encoded data removed]",
      "text/plain": [
       "<Figure size 432x288 with 1 Axes>"
      ]
     },
     "metadata": {
      "needs_background": "light"
     },
     "output_type": "display_data"
    }
   ],
   "source": [
    "import matplotlib.pyplot as plt\n",
    "plt.hist(train_marginals[:, TRUE - 1], bins=20)\n",
    "plt.show()"
   ]
  },
  {
   "cell_type": "markdown",
   "metadata": {},
   "source": [
    "We can view the learned accuracy parameters as well."
   ]
  },
  {
   "cell_type": "code",
   "execution_count": 24,
   "metadata": {},
   "outputs": [
    {
     "data": {
      "text/plain": [
       "(76751, 16)"
      ]
     },
     "execution_count": 24,
     "metadata": {},
     "output_type": "execute_result"
    }
   ],
   "source": [
    "# gen_model.weights.lf_accuracy\n",
    "L_train[0].shape"
   ]
  },
  {
   "cell_type": "markdown",
   "metadata": {
    "scrolled": true
   },
   "source": [
    "### Using the Model to Iterate on Labeling Functions\n",
    "\n",
    "Now that we have learned the generative model, we can stop here and use this to potentially debug and/or improve our labeling function set. First, we apply the LFs to our development set:"
   ]
  },
  {
   "cell_type": "code",
   "execution_count": 25,
   "metadata": {},
   "outputs": [
    {
     "name": "stdout",
     "output_type": "stream",
     "text": [
      "[INFO] fonduer.supervision.labeler:232 - Clearing Labels (split 1)\n",
      "[INFO] fonduer.utils.udf:57 - Running UDF...\n"
     ]
    },
    {
     "data": {
      "application/vnd.jupyter.widget-view+json": {
       "model_id": "f7c9d4fb2c344734a2da7982c0611a3e",
       "version_major": 2,
       "version_minor": 0
      },
      "text/plain": [
       "HBox(children=(IntProgress(value=0, max=99), HTML(value='')))"
      ]
     },
     "metadata": {},
     "output_type": "display_data"
    },
    {
     "name": "stdout",
     "output_type": "stream",
     "text": [
      "\n",
      "CPU times: user 55 s, sys: 2.64 s, total: 57.7 s\n",
      "Wall time: 1min 14s\n"
     ]
    }
   ],
   "source": [
    "labeler.apply(split=1, lfs=[stg_temp_lfs], parallelism=PARALLEL)\n",
    "%time L_dev = labeler.get_label_matrices(dev_cands)"
   ]
  },
  {
   "cell_type": "code",
   "execution_count": 26,
   "metadata": {},
   "outputs": [
    {
     "data": {
      "text/plain": [
       "(43473, 16)"
      ]
     },
     "execution_count": 26,
     "metadata": {},
     "output_type": "execute_result"
    }
   ],
   "source": [
    "L_dev[0].shape"
   ]
  },
  {
   "cell_type": "markdown",
   "metadata": {},
   "source": [
    "### Interpreting Generative Model Performance\n",
    "\n",
    "At this point, we should be getting an F1 score of around 0.6 to 0.7 on the development set, which is pretty good! However, we should be very careful in interpreting this. Since we developed our labeling functions using this development set as a guide, and our generative model is composed of these labeling functions, we expect it to score very well here!\n",
    "\n",
    "In fact, it is probably somewhat overfit to this set. However this is fine, since in the next, we'll train a more powerful end extraction model which will generalize beyond the development set, and which we will evaluate on a blind test set (i.e. one we never looked at during development).\n",
    "\n",
    "\n",
    "### Training the Discriminative Model\n",
    "\n",
    "Now, we'll use the noisy training labels we generated in the last part to train our end extraction model. For this tutorial, we will be training a simple--but fairly effective--logistic regression model.\n",
    "\n",
    "We use the training marginals to train a discriminative model that classifies each Candidate as a true or false mention. "
   ]
  },
  {
   "cell_type": "code",
   "execution_count": 27,
   "metadata": {},
   "outputs": [
    {
     "name": "stdout",
     "output_type": "stream",
     "text": [
      "[INFO] fonduer.learning.classifier:98 - Loading default parameters for Logistic Regression\n",
      "[INFO] fonduer.learning.classifier:195 - Settings: {'n_epochs': 50, 'lr': 0.001, 'batch_size': 256, 'shuffle': True, 'seed': 1234, 'host_device': 'CPU', 'bias': False, 'input_dim': 17223}\n",
      "[INFO] fonduer.learning.classifier:213 - [LogisticRegression] Training model\n",
      "[INFO] fonduer.learning.classifier:215 - [LogisticRegression] n_train=76751 #epochs=50 batch size=256\n",
      "[INFO] fonduer.learning.classifier:262 - [LogisticRegression] Epoch 1 (131.65s)\tAverage loss=0.539063\n",
      "[INFO] fonduer.learning.classifier:262 - [LogisticRegression] Epoch 5 (649.07s)\tAverage loss=0.531981\n",
      "[INFO] fonduer.learning.classifier:262 - [LogisticRegression] Epoch 10 (1294.31s)\tAverage loss=0.532132\n",
      "[INFO] fonduer.learning.classifier:262 - [LogisticRegression] Epoch 15 (1939.50s)\tAverage loss=0.532280\n",
      "[INFO] fonduer.learning.classifier:262 - [LogisticRegression] Epoch 20 (2586.03s)\tAverage loss=0.532214\n",
      "[INFO] fonduer.learning.classifier:262 - [LogisticRegression] Epoch 25 (3229.19s)\tAverage loss=0.531988\n",
      "[INFO] fonduer.learning.classifier:262 - [LogisticRegression] Epoch 30 (3874.20s)\tAverage loss=0.532047\n",
      "[INFO] fonduer.learning.classifier:262 - [LogisticRegression] Epoch 35 (4518.58s)\tAverage loss=0.532168\n",
      "[INFO] fonduer.learning.classifier:262 - [LogisticRegression] Epoch 40 (5163.69s)\tAverage loss=0.532301\n",
      "[INFO] fonduer.learning.classifier:262 - [LogisticRegression] Epoch 45 (5808.56s)\tAverage loss=0.532079\n",
      "[INFO] fonduer.learning.classifier:262 - [LogisticRegression] Epoch 50 (6453.67s)\tAverage loss=0.532022\n",
      "[INFO] fonduer.learning.classifier:278 - [LogisticRegression] Training done (6453.67s)\n",
      "CPU times: user 1h 57min 17s, sys: 10.1 s, total: 1h 57min 27s\n",
      "Wall time: 1h 47min 43s\n"
     ]
    }
   ],
   "source": [
    "from fonduer.learning import LogisticRegression\n",
    "\n",
    "disc_model = LogisticRegression()\n",
    "%time disc_model.train((train_cands[0], F_train[0]), train_marginals, n_epochs=50, lr=0.001)"
   ]
  },
  {
   "cell_type": "code",
   "execution_count": 28,
   "metadata": {},
   "outputs": [],
   "source": [
    "import numpy as np\n",
    "from transistor_utils import entity_level_f1\n",
    "import pickle\n",
    "pickle_file = 'data/parts_by_doc_dict.pkl'\n",
    "with open(pickle_file, 'rb') as f:\n",
    "    parts_by_doc = pickle.load(f)"
   ]
  },
  {
   "cell_type": "markdown",
   "metadata": {
    "scrolled": true
   },
   "source": [
    "Now, we score using the discriminitive model:"
   ]
  },
  {
   "cell_type": "code",
   "execution_count": 29,
   "metadata": {},
   "outputs": [
    {
     "name": "stdout",
     "output_type": "stream",
     "text": [
      "[INFO] fonduer.learning.classifier:354 - Using positive label class 2 with threshold 0.6\n",
      "[INFO] transistor_utils:151 - Preparing candidates...\n"
     ]
    },
    {
     "data": {
      "application/vnd.jupyter.widget-view+json": {
       "model_id": "fb66e907aed84d2a9b22e392f2a85050",
       "version_major": 2,
       "version_minor": 0
      },
      "text/plain": [
       "HBox(children=(IntProgress(value=0, max=1840), HTML(value='')))"
      ]
     },
     "metadata": {},
     "output_type": "display_data"
    },
    {
     "name": "stdout",
     "output_type": "stream",
     "text": [
      "\n",
      "[INFO] transistor_utils:172 - ========================================\n",
      "[INFO] transistor_utils:173 - Scoring on Entity-Level Gold Data\n",
      "[INFO] transistor_utils:174 - ========================================\n",
      "[INFO] transistor_utils:175 - Corpus Precision 0.522\n",
      "[INFO] transistor_utils:176 - Corpus Recall    0.856\n",
      "[INFO] transistor_utils:177 - Corpus F1        0.649\n",
      "[INFO] transistor_utils:178 - ----------------------------------------\n",
      "[INFO] transistor_utils:179 - TP: 131 | FP: 120 | FN: 22\n",
      "[INFO] transistor_utils:180 - ========================================\n",
      "\n",
      "CPU times: user 4.86 s, sys: 185 ms, total: 5.04 s\n",
      "Wall time: 6.37 s\n"
     ]
    }
   ],
   "source": [
    "test_score = disc_model.predict((test_cands[0], F_test[0]), b=0.6, pos_label=TRUE)\n",
    "true_pred = [test_cands[0][_] for _ in np.nditer(np.where(test_score == TRUE))]\n",
    "%time (TP, FP, FN) = entity_level_f1(true_pred, \"stg_temp_max\", test_docs, parts_by_doc=parts_by_doc)"
   ]
  },
  {
   "cell_type": "markdown",
   "metadata": {},
   "source": [
    "We can see that there are actually only a few documents that are causing us problems. In particular, we see that `BC546-D` is giving us many false positives. So, let's inspect one of those candidates. "
   ]
  },
  {
   "cell_type": "code",
   "execution_count": 30,
   "metadata": {},
   "outputs": [
    {
     "data": {
      "image/png": "[encoded data removed]",
      "text/plain": [
       "<wand.image.Image: 51fd542 'PDF' (595x842)>"
      ]
     },
     "metadata": {},
     "output_type": "display_data"
    },
    {
     "data": {
      "image/png": "[encoded data removed]",
      "text/plain": [
       "<wand.image.Image: 5c7036b 'PDF' (595x842)>"
      ]
     },
     "metadata": {},
     "output_type": "display_data"
    }
   ],
   "source": [
    "from fonduer.utils.visualizer import Visualizer\n",
    "from transistor_utils import entity_to_candidates\n",
    "vis = Visualizer(\"data/test/pdf\")\n",
    "\n",
    "# Get a list of candidates that match the FN[10] entity\n",
    "fp_cands = entity_to_candidates(FP[1], test_cands[0])\n",
    "# Display a candidate\n",
    "vis.display_candidates([fp_cands[0]])"
   ]
  }
 ],
 "metadata": {
  "anaconda-cloud": {},
  "kernelspec": {
   "display_name": "Python 3",
   "language": "python",
   "name": "python3"
  },
  "language_info": {
   "codemirror_mode": {
    "name": "ipython",
    "version": 3
   },
   "file_extension": ".py",
   "mimetype": "text/x-python",
   "name": "python",
   "nbconvert_exporter": "python",
   "pygments_lexer": "ipython3",
   "version": "3.6.7"
  }
 },
 "nbformat": 4,
 "nbformat_minor": 1
}
