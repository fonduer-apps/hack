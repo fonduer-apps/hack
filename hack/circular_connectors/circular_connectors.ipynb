{
 "cells": [
  {
   "cell_type": "code",
   "execution_count": 1,
   "metadata": {},
   "outputs": [],
   "source": [
    "%load_ext autoreload\n",
    "%autoreload 2\n",
    "%matplotlib inline\n",
    "import os\n",
    "import sys\n",
    "import logging\n",
    "\n",
    "# Configure logging for Fonduer\n",
    "logging.basicConfig(stream=sys.stdout, format='[%(levelname)s] %(name)s:%(lineno)s - %(message)s')\n",
    "logger = logging.getLogger('fonduer')\n",
    "logger.setLevel(logging.INFO)\n",
    "\n",
    "PARALLEL = 16 # assuming a quad-core machine\n",
    "ATTRIBUTE = \"circular_connectors\"\n",
    "conn_string = 'postgresql://localhost:5432/' + ATTRIBUTE"
   ]
  },
  {
   "cell_type": "code",
   "execution_count": 2,
   "metadata": {},
   "outputs": [],
   "source": [
    "# If you've run this before, set FIRST_TIME to False to save time\n",
    "FIRST_TIME = False"
   ]
  },
  {
   "cell_type": "code",
   "execution_count": 3,
   "metadata": {},
   "outputs": [
    {
     "name": "stdout",
     "output_type": "stream",
     "text": [
      "[INFO] fonduer.meta:86 - Connecting user:None to localhost:5432/circular_connectors\n",
      "[INFO] fonduer.meta:110 - Initializing the storage schema\n"
     ]
    }
   ],
   "source": [
    "from fonduer import Meta\n",
    "\n",
    "session = Meta.init(conn_string).Session()"
   ]
  },
  {
   "cell_type": "code",
   "execution_count": 5,
   "metadata": {},
   "outputs": [
    {
     "name": "stdout",
     "output_type": "stream",
     "text": [
      "[INFO] fonduer:8 - # of train Documents: 100\n",
      "[INFO] fonduer:9 - # of dev Documents: 100\n",
      "[INFO] fonduer:10 - # of test Documents: 98\n"
     ]
    }
   ],
   "source": [
    "from hack.utils import parse_dataset\n",
    "\n",
    "dirname = \".\"\n",
    "\n",
    "docs, train_docs, dev_docs, test_docs = parse_dataset(\n",
    "    session, dirname, first_time=FIRST_TIME, parallel=PARALLEL, max_docs=100\n",
    ")\n",
    "logger.info(f\"# of train Documents: {len(train_docs)}\")\n",
    "logger.info(f\"# of dev Documents: {len(dev_docs)}\")\n",
    "logger.info(f\"# of test Documents: {len(test_docs)}\")"
   ]
  },
  {
   "cell_type": "code",
   "execution_count": 6,
   "metadata": {},
   "outputs": [
    {
     "name": "stdout",
     "output_type": "stream",
     "text": [
      "[INFO] fonduer:3 - Documents: 298\n",
      "[INFO] fonduer:4 - Sections: 298\n",
      "[INFO] fonduer:5 - Paragraphs: 330839\n",
      "[INFO] fonduer:6 - Sentences: 341046\n",
      "[INFO] fonduer:7 - Figures: 21269\n"
     ]
    }
   ],
   "source": [
    "from fonduer.parser.models import Document, Section, Paragraph, Sentence, Figure\n",
    "\n",
    "logger.info(f\"Documents: {session.query(Document).count()}\")\n",
    "logger.info(f\"Sections: {session.query(Section).count()}\")\n",
    "logger.info(f\"Paragraphs: {session.query(Paragraph).count()}\")\n",
    "logger.info(f\"Sentences: {session.query(Sentence).count()}\")\n",
    "logger.info(f\"Figures: {session.query(Figure).count()}\")"
   ]
  },
  {
   "cell_type": "code",
   "execution_count": 8,
   "metadata": {},
   "outputs": [],
   "source": [
    "from fonduer.candidates.models import mention_subclass\n",
    "\n",
    "Thumbnails = mention_subclass(\"Thumbnails\")"
   ]
  },
  {
   "cell_type": "code",
   "execution_count": 9,
   "metadata": {},
   "outputs": [],
   "source": [
    "from fonduer.candidates import MentionFigures\n",
    "\n",
    "thumbnails_img = MentionFigures()"
   ]
  },
  {
   "cell_type": "code",
   "execution_count": 52,
   "metadata": {},
   "outputs": [],
   "source": [
    "from fonduer.candidates.matchers import _Matcher"
   ]
  },
  {
   "cell_type": "code",
   "execution_count": 108,
   "metadata": {},
   "outputs": [],
   "source": [
    "from PIL import Image\n",
    "\n",
    "class HasFigures(_Matcher):   \n",
    "    def _f(self, m):\n",
    "        file_path = \"\"\n",
    "        for prefix in [\"data/train/html/\", \"data/dev/html/\", \"data/test/html/\"]:\n",
    "            if os.path.exists(prefix + m.figure.url):\n",
    "                file_path = prefix + m.figure.url\n",
    "        if file_path == \"\":\n",
    "            return False\n",
    "        img = Image.open(file_path)\n",
    "        width, height = img.size\n",
    "        min_value = min(width, height)\n",
    "        return min_value > 50"
   ]
  },
  {
   "cell_type": "code",
   "execution_count": 109,
   "metadata": {
    "scrolled": true
   },
   "outputs": [
    {
     "name": "stdout",
     "output_type": "stream",
     "text": [
      "[INFO] fonduer.candidates.mentions:460 - Clearing table: thumbnails\n",
      "[INFO] fonduer.candidates.mentions:468 - Cascading to clear table: thumbnail_label\n",
      "[INFO] fonduer.utils.udf:57 - Running UDF...\n"
     ]
    },
    {
     "data": {
      "application/vnd.jupyter.widget-view+json": {
       "model_id": "396eb30fa89c46a09dd8faac78352dfe",
       "version_major": 2,
       "version_minor": 0
      },
      "text/plain": [
       "HBox(children=(IntProgress(value=0, max=298), HTML(value='')))"
      ]
     },
     "metadata": {},
     "output_type": "display_data"
    },
    {
     "name": "stdout",
     "output_type": "stream",
     "text": [
      "[INFO] fonduer:13 - Total Mentions: 8917\n"
     ]
    }
   ],
   "source": [
    "from fonduer.candidates import MentionExtractor\n",
    "from fonduer.candidates.matchers import DoNothingMatcher\n",
    "\n",
    "mention_extractor = MentionExtractor(\n",
    "    session, [Thumbnails], [thumbnails_img], [HasFigures()], parallelism=PARALLEL\n",
    ")\n",
    "\n",
    "from fonduer.candidates.models import Mention\n",
    "\n",
    "if FIRST_TIME:\n",
    "    mention_extractor.apply(docs)\n",
    "\n",
    "logger.info(\"Total Mentions: {}\".format(session.query(Mention).count()))"
   ]
  },
  {
   "cell_type": "code",
   "execution_count": 110,
   "metadata": {},
   "outputs": [],
   "source": [
    "from fonduer.candidates.models import candidate_subclass\n",
    "\n",
    "ThumbnailLabel = candidate_subclass(\"ThumbnailLabel\", [Thumbnails])"
   ]
  },
  {
   "cell_type": "code",
   "execution_count": 111,
   "metadata": {},
   "outputs": [
    {
     "name": "stdout",
     "output_type": "stream",
     "text": [
      "[INFO] fonduer.candidates.candidates:125 - Clearing table thumbnail_label (split 0)\n",
      "[INFO] fonduer.utils.udf:57 - Running UDF...\n"
     ]
    },
    {
     "data": {
      "application/vnd.jupyter.widget-view+json": {
       "model_id": "fae375f79b084562a185dbbd478c57c4",
       "version_major": 2,
       "version_minor": 0
      },
      "text/plain": [
       "HBox(children=(IntProgress(value=0), HTML(value='')))"
      ]
     },
     "metadata": {},
     "output_type": "display_data"
    },
    {
     "name": "stdout",
     "output_type": "stream",
     "text": [
      "[INFO] fonduer.candidates.candidates:125 - Clearing table thumbnail_label (split 1)\n",
      "[INFO] fonduer.utils.udf:57 - Running UDF...\n"
     ]
    },
    {
     "data": {
      "application/vnd.jupyter.widget-view+json": {
       "model_id": "d3d7f8f6e79b4952a1e64865cba1bdab",
       "version_major": 2,
       "version_minor": 0
      },
      "text/plain": [
       "HBox(children=(IntProgress(value=0), HTML(value='')))"
      ]
     },
     "metadata": {},
     "output_type": "display_data"
    },
    {
     "name": "stdout",
     "output_type": "stream",
     "text": [
      "[INFO] fonduer.candidates.candidates:125 - Clearing table thumbnail_label (split 2)\n",
      "[INFO] fonduer.utils.udf:57 - Running UDF...\n"
     ]
    },
    {
     "data": {
      "application/vnd.jupyter.widget-view+json": {
       "model_id": "c13024e005584dbeb7079adcf0152c81",
       "version_major": 2,
       "version_minor": 0
      },
      "text/plain": [
       "HBox(children=(IntProgress(value=0, max=98), HTML(value='')))"
      ]
     },
     "metadata": {},
     "output_type": "display_data"
    }
   ],
   "source": [
    "from fonduer.candidates import CandidateExtractor\n",
    "\n",
    "candidate_extractor = CandidateExtractor(\n",
    "    session, [ThumbnailLabel], throttlers=[None], parallelism=PARALLEL\n",
    ")\n",
    "\n",
    "if FIRST_TIME or True:\n",
    "    candidate_extractor.apply(train_docs, split=0)\n",
    "    candidate_extractor.apply(dev_docs, split=1)\n",
    "    candidate_extractor.apply(test_docs, split=2)"
   ]
  },
  {
   "cell_type": "code",
   "execution_count": 112,
   "metadata": {},
   "outputs": [],
   "source": [
    "train_cands = candidate_extractor.get_candidates(split=0)\n",
    "dev_cands = candidate_extractor.get_candidates(split=1)\n",
    "test_cands = candidate_extractor.get_candidates(split=2)"
   ]
  },
  {
   "cell_type": "code",
   "execution_count": 113,
   "metadata": {},
   "outputs": [
    {
     "name": "stdout",
     "output_type": "stream",
     "text": [
      "[INFO] fonduer:1 - Total train candidate:\t7256\n",
      "[INFO] fonduer:2 - Total dev candidate:\t453\n",
      "[INFO] fonduer:3 - Total test candidate:\t1208\n"
     ]
    }
   ],
   "source": [
    "logger.info(\"Total train candidate:\\t{}\".format(len(train_cands[0])))\n",
    "logger.info(\"Total dev candidate:\\t{}\".format(len(dev_cands[0])))\n",
    "logger.info(\"Total test candidate:\\t{}\".format(len(test_cands[0])))"
   ]
  },
  {
   "cell_type": "code",
   "execution_count": 114,
   "metadata": {},
   "outputs": [],
   "source": [
    "fin = open(\"data/ground_truth.txt\", \"r\")\n",
    "gt = set()\n",
    "for line in fin:\n",
    "    gt.add(\"::\".join(line.lower().split()))\n",
    "fin.close()\n",
    "# gt"
   ]
  },
  {
   "cell_type": "code",
   "execution_count": 115,
   "metadata": {},
   "outputs": [],
   "source": [
    "TRUE=1\n",
    "FALSE=2\n",
    "ABSTAIN=0"
   ]
  },
  {
   "cell_type": "code",
   "execution_count": 116,
   "metadata": {},
   "outputs": [],
   "source": [
    "def LF_gt_label(c):\n",
    "    doc_file_id = f\"{c[0].context.figure.document.name.lower()}.pdf::{os.path.basename(c[0].context.figure.url.lower())}\"\n",
    "#     print(doc_file_id)\n",
    "    return TRUE if doc_file_id in gt else FALSE"
   ]
  },
  {
   "cell_type": "code",
   "execution_count": 117,
   "metadata": {},
   "outputs": [],
   "source": [
    "ans = {0:0, 1:0, 2:0}\n",
    "\n",
    "gt_dev_pb = []\n",
    "gt_dev = []\n",
    "gt_test = []"
   ]
  },
  {
   "cell_type": "code",
   "execution_count": 118,
   "metadata": {},
   "outputs": [],
   "source": [
    "for cand in dev_cands[0]:\n",
    "    if LF_gt_label(cand) == 1:\n",
    "        ans[1] += 1\n",
    "        gt_dev_pb.append([1., 0.])\n",
    "        gt_dev.append(1.)\n",
    "    else:\n",
    "        ans[2] += 1\n",
    "        gt_dev_pb.append([0., 1.])\n",
    "        gt_dev.append(2.)"
   ]
  },
  {
   "cell_type": "code",
   "execution_count": 119,
   "metadata": {},
   "outputs": [
    {
     "data": {
      "text/plain": [
       "{0: 0, 1: 69, 2: 384}"
      ]
     },
     "execution_count": 119,
     "metadata": {},
     "output_type": "execute_result"
    }
   ],
   "source": [
    "ans"
   ]
  },
  {
   "cell_type": "code",
   "execution_count": 120,
   "metadata": {},
   "outputs": [],
   "source": [
    "ans = {0:0, 1:0, 2:0}"
   ]
  },
  {
   "cell_type": "code",
   "execution_count": 121,
   "metadata": {},
   "outputs": [],
   "source": [
    "for cand in test_cands[0]:\n",
    "    gt_test.append(LF_gt_label(cand))\n",
    "    ans[gt_test[-1]] += 1"
   ]
  },
  {
   "cell_type": "code",
   "execution_count": 122,
   "metadata": {},
   "outputs": [
    {
     "data": {
      "text/plain": [
       "{0: 0, 1: 160, 2: 1048}"
      ]
     },
     "execution_count": 122,
     "metadata": {},
     "output_type": "execute_result"
    }
   ],
   "source": [
    "ans"
   ]
  },
  {
   "cell_type": "code",
   "execution_count": 123,
   "metadata": {},
   "outputs": [],
   "source": [
    "batch_size = 64\n",
    "input_size = 224"
   ]
  },
  {
   "cell_type": "code",
   "execution_count": 124,
   "metadata": {},
   "outputs": [],
   "source": [
    "from disc_model.torchnet import *\n",
    "from utils import *"
   ]
  },
  {
   "cell_type": "code",
   "execution_count": 33,
   "metadata": {},
   "outputs": [],
   "source": [
    "train_loader = torch.utils.data.DataLoader(\n",
    "    ImageList(\n",
    "        data=all_cands,\n",
    "        label=torch.Tensor(all_label),\n",
    "#         label=torch.Tensor(gt_dev_pb),\n",
    "        transform=transform(input_size),\n",
    "        prefix=\"data/dev/html/\",\n",
    "    ),\n",
    "    batch_size=batch_size,\n",
    "    shuffle = True,\n",
    "#     sampler = sampler\n",
    ")"
   ]
  },
  {
   "cell_type": "code",
   "execution_count": 126,
   "metadata": {},
   "outputs": [],
   "source": [
    "train_loader = torch.utils.data.DataLoader(\n",
    "    ImageList(\n",
    "        data=dev_cands[0],\n",
    "#         label=torch.Tensor(gt_dev),\n",
    "        label=torch.Tensor(gt_dev_pb),\n",
    "        transform=transform(input_size),\n",
    "        prefix=\"data/dev/html/\",\n",
    "    ),\n",
    "    batch_size=batch_size,\n",
    "    shuffle = False,\n",
    "#     sampler = sampler\n",
    ")"
   ]
  },
  {
   "cell_type": "code",
   "execution_count": 127,
   "metadata": {},
   "outputs": [],
   "source": [
    "dev_loader = torch.utils.data.DataLoader(\n",
    "    ImageList(\n",
    "        data=dev_cands[0],\n",
    "#         label=torch.Tensor(gt_dev),\n",
    "        label=gt_dev,\n",
    "        transform=transform(input_size),\n",
    "        prefix=\"data/dev/html/\",\n",
    "    ),\n",
    "    batch_size=batch_size,\n",
    "    shuffle=False,\n",
    ")"
   ]
  },
  {
   "cell_type": "code",
   "execution_count": 128,
   "metadata": {},
   "outputs": [],
   "source": [
    "test_loader = torch.utils.data.DataLoader(\n",
    "    ImageList(\n",
    "        data=test_cands[0],\n",
    "        label=gt_test,\n",
    "        transform=transform(input_size),\n",
    "        prefix=\"data/test/html/\",\n",
    "    ),\n",
    "    batch_size=batch_size,\n",
    "    shuffle=False,\n",
    ")"
   ]
  },
  {
   "cell_type": "code",
   "execution_count": 101,
   "metadata": {},
   "outputs": [],
   "source": [
    "from metal import EndModel"
   ]
  },
  {
   "cell_type": "code",
   "execution_count": 102,
   "metadata": {},
   "outputs": [],
   "source": [
    "em_config = {\n",
    "    # GENERAL\n",
    "    \"seed\": None,\n",
    "    \"verbose\": True,\n",
    "    \"show_plots\": True,\n",
    "    # Network\n",
    "    # The first value is the output dim of the input module (or the sum of\n",
    "    # the output dims of all the input modules if multitask=True and\n",
    "    # multiple input modules are provided). The last value is the\n",
    "    # output dim of the head layer (i.e., the cardinality of the\n",
    "    # classification task). The remaining values are the output dims of\n",
    "    # middle layers (if any). The number of middle layers will be inferred\n",
    "    # from this list.\n",
    "    #     \"layer_out_dims\": [10, 2],\n",
    "    # Input layer configs\n",
    "    \"input_layer_config\": {\n",
    "        \"input_relu\": False,\n",
    "        \"input_batchnorm\": False,\n",
    "        \"input_dropout\": 0.0,\n",
    "    },\n",
    "    # Middle layer configs\n",
    "    \"middle_layer_config\": {\n",
    "        \"middle_relu\": False,\n",
    "        \"middle_batchnorm\": False,\n",
    "        \"middle_dropout\": 0.0,\n",
    "    },\n",
    "    # Can optionally skip the head layer completely, for e.g. running baseline\n",
    "    # models...\n",
    "    \"skip_head\": True,\n",
    "    # GPU\n",
    "    \"use_cuda\": True,\n",
    "    # MODEL CLASS\n",
    "    \"resnet18\"\n",
    "    # DATA CONFIG\n",
    "    \"src\": \"gm\",\n",
    "    # TRAINING\n",
    "    \"train_config\": {\n",
    "        # Display\n",
    "        \"print_every\": 1,  # Print after this many epochs\n",
    "        \"disable_prog_bar\": False,  # Disable progress bar each epoch\n",
    "        # Dataloader\n",
    "        \"data_loader_config\": {\"batch_size\": 32, \"num_workers\": 8, \"sampler\": None},\n",
    "        # Loss weights\n",
    "        \"loss_weights\": [0.5, 0.5],\n",
    "        # Train Loop\n",
    "        \"n_epochs\": 20,\n",
    "        # 'grad_clip': 0.0,\n",
    "        \"l2\": 0.0,\n",
    "        # \"lr\": 0.01,\n",
    "        \"validation_metric\": \"accuracy\",\n",
    "        \"validation_freq\": 1,\n",
    "        # Evaluate dev for during training every this many epochs\n",
    "        # Optimizer\n",
    "        \"optimizer_config\": {\n",
    "            \"optimizer\": \"adam\",\n",
    "            \"optimizer_common\": {\"lr\": 0.01},\n",
    "            # Optimizer - SGD\n",
    "            \"sgd_config\": {\"momentum\": 0.9},\n",
    "            # Optimizer - Adam\n",
    "            \"adam_config\": {\"betas\": (0.9, 0.999)},\n",
    "        },\n",
    "        # Scheduler\n",
    "        \"scheduler_config\": {\n",
    "            \"scheduler\": \"reduce_on_plateau\",\n",
    "            # ['constant', 'exponential', 'reduce_on_plateu']\n",
    "            # Freeze learning rate initially this many epochs\n",
    "            \"lr_freeze\": 0,\n",
    "            # Scheduler - exponential\n",
    "            \"exponential_config\": {\"gamma\": 0.9},  # decay rate\n",
    "            # Scheduler - reduce_on_plateau\n",
    "            \"plateau_config\": {\n",
    "                \"factor\": 0.5,\n",
    "                \"patience\": 1,\n",
    "                \"threshold\": 0.0001,\n",
    "                \"min_lr\": 1e-5,\n",
    "            },\n",
    "        },\n",
    "        # Checkpointer\n",
    "        \"checkpoint\": True,\n",
    "        \"checkpoint_config\": {\n",
    "            \"checkpoint_min\": -1,\n",
    "            # The initial best score to beat to merit checkpointing\n",
    "            \"checkpoint_runway\": 0,\n",
    "            # Don't start taking checkpoints until after this many epochs\n",
    "        },\n",
    "    },\n",
    "}"
   ]
  },
  {
   "cell_type": "code",
   "execution_count": 197,
   "metadata": {
    "scrolled": true
   },
   "outputs": [
    {
     "name": "stderr",
     "output_type": "stream",
     "text": [
      "\n",
      "\n",
      "  0%|          | 0/8 [00:00<?, ?it/s]\u001b[A\u001b[A"
     ]
    },
    {
     "name": "stdout",
     "output_type": "stream",
     "text": [
      "Using class weight vector [0.5, 0.5]...\n",
      "\n",
      "Network architecture:\n",
      "ResNet(\n",
      "  (conv1): Conv2d(3, 64, kernel_size=(7, 7), stride=(2, 2), padding=(3, 3), bias=False)\n",
      "  (bn1): BatchNorm2d(64, eps=1e-05, momentum=0.1, affine=True, track_running_stats=True)\n",
      "  (relu): ReLU(inplace)\n",
      "  (maxpool): MaxPool2d(kernel_size=3, stride=2, padding=1, dilation=1, ceil_mode=False)\n",
      "  (layer1): Sequential(\n",
      "    (0): BasicBlock(\n",
      "      (conv1): Conv2d(64, 64, kernel_size=(3, 3), stride=(1, 1), padding=(1, 1), bias=False)\n",
      "      (bn1): BatchNorm2d(64, eps=1e-05, momentum=0.1, affine=True, track_running_stats=True)\n",
      "      (relu): ReLU(inplace)\n",
      "      (conv2): Conv2d(64, 64, kernel_size=(3, 3), stride=(1, 1), padding=(1, 1), bias=False)\n",
      "      (bn2): BatchNorm2d(64, eps=1e-05, momentum=0.1, affine=True, track_running_stats=True)\n",
      "    )\n",
      "    (1): BasicBlock(\n",
      "      (conv1): Conv2d(64, 64, kernel_size=(3, 3), stride=(1, 1), padding=(1, 1), bias=False)\n",
      "      (bn1): BatchNorm2d(64, eps=1e-05, momentum=0.1, affine=True, track_running_stats=True)\n",
      "      (relu): ReLU(inplace)\n",
      "      (conv2): Conv2d(64, 64, kernel_size=(3, 3), stride=(1, 1), padding=(1, 1), bias=False)\n",
      "      (bn2): BatchNorm2d(64, eps=1e-05, momentum=0.1, affine=True, track_running_stats=True)\n",
      "    )\n",
      "  )\n",
      "  (layer2): Sequential(\n",
      "    (0): BasicBlock(\n",
      "      (conv1): Conv2d(64, 128, kernel_size=(3, 3), stride=(2, 2), padding=(1, 1), bias=False)\n",
      "      (bn1): BatchNorm2d(128, eps=1e-05, momentum=0.1, affine=True, track_running_stats=True)\n",
      "      (relu): ReLU(inplace)\n",
      "      (conv2): Conv2d(128, 128, kernel_size=(3, 3), stride=(1, 1), padding=(1, 1), bias=False)\n",
      "      (bn2): BatchNorm2d(128, eps=1e-05, momentum=0.1, affine=True, track_running_stats=True)\n",
      "      (downsample): Sequential(\n",
      "        (0): Conv2d(64, 128, kernel_size=(1, 1), stride=(2, 2), bias=False)\n",
      "        (1): BatchNorm2d(128, eps=1e-05, momentum=0.1, affine=True, track_running_stats=True)\n",
      "      )\n",
      "    )\n",
      "    (1): BasicBlock(\n",
      "      (conv1): Conv2d(128, 128, kernel_size=(3, 3), stride=(1, 1), padding=(1, 1), bias=False)\n",
      "      (bn1): BatchNorm2d(128, eps=1e-05, momentum=0.1, affine=True, track_running_stats=True)\n",
      "      (relu): ReLU(inplace)\n",
      "      (conv2): Conv2d(128, 128, kernel_size=(3, 3), stride=(1, 1), padding=(1, 1), bias=False)\n",
      "      (bn2): BatchNorm2d(128, eps=1e-05, momentum=0.1, affine=True, track_running_stats=True)\n",
      "    )\n",
      "  )\n",
      "  (layer3): Sequential(\n",
      "    (0): BasicBlock(\n",
      "      (conv1): Conv2d(128, 256, kernel_size=(3, 3), stride=(2, 2), padding=(1, 1), bias=False)\n",
      "      (bn1): BatchNorm2d(256, eps=1e-05, momentum=0.1, affine=True, track_running_stats=True)\n",
      "      (relu): ReLU(inplace)\n",
      "      (conv2): Conv2d(256, 256, kernel_size=(3, 3), stride=(1, 1), padding=(1, 1), bias=False)\n",
      "      (bn2): BatchNorm2d(256, eps=1e-05, momentum=0.1, affine=True, track_running_stats=True)\n",
      "      (downsample): Sequential(\n",
      "        (0): Conv2d(128, 256, kernel_size=(1, 1), stride=(2, 2), bias=False)\n",
      "        (1): BatchNorm2d(256, eps=1e-05, momentum=0.1, affine=True, track_running_stats=True)\n",
      "      )\n",
      "    )\n",
      "    (1): BasicBlock(\n",
      "      (conv1): Conv2d(256, 256, kernel_size=(3, 3), stride=(1, 1), padding=(1, 1), bias=False)\n",
      "      (bn1): BatchNorm2d(256, eps=1e-05, momentum=0.1, affine=True, track_running_stats=True)\n",
      "      (relu): ReLU(inplace)\n",
      "      (conv2): Conv2d(256, 256, kernel_size=(3, 3), stride=(1, 1), padding=(1, 1), bias=False)\n",
      "      (bn2): BatchNorm2d(256, eps=1e-05, momentum=0.1, affine=True, track_running_stats=True)\n",
      "    )\n",
      "  )\n",
      "  (layer4): Sequential(\n",
      "    (0): BasicBlock(\n",
      "      (conv1): Conv2d(256, 512, kernel_size=(3, 3), stride=(2, 2), padding=(1, 1), bias=False)\n",
      "      (bn1): BatchNorm2d(512, eps=1e-05, momentum=0.1, affine=True, track_running_stats=True)\n",
      "      (relu): ReLU(inplace)\n",
      "      (conv2): Conv2d(512, 512, kernel_size=(3, 3), stride=(1, 1), padding=(1, 1), bias=False)\n",
      "      (bn2): BatchNorm2d(512, eps=1e-05, momentum=0.1, affine=True, track_running_stats=True)\n",
      "      (downsample): Sequential(\n",
      "        (0): Conv2d(256, 512, kernel_size=(1, 1), stride=(2, 2), bias=False)\n",
      "        (1): BatchNorm2d(512, eps=1e-05, momentum=0.1, affine=True, track_running_stats=True)\n",
      "      )\n",
      "    )\n",
      "    (1): BasicBlock(\n",
      "      (conv1): Conv2d(512, 512, kernel_size=(3, 3), stride=(1, 1), padding=(1, 1), bias=False)\n",
      "      (bn1): BatchNorm2d(512, eps=1e-05, momentum=0.1, affine=True, track_running_stats=True)\n",
      "      (relu): ReLU(inplace)\n",
      "      (conv2): Conv2d(512, 512, kernel_size=(3, 3), stride=(1, 1), padding=(1, 1), bias=False)\n",
      "      (bn2): BatchNorm2d(512, eps=1e-05, momentum=0.1, affine=True, track_running_stats=True)\n",
      "    )\n",
      "  )\n",
      "  (avgpool): AvgPool2d(kernel_size=7, stride=1, padding=0)\n",
      "  (fc): Linear(in_features=512, out_features=2, bias=True)\n",
      ")\n",
      "\n",
      "============================================================\n",
      "[0] Testing {'l2': 0.001, 'lr': 0.020702566920833793}\n",
      "============================================================\n",
      "Using GPU...\n"
     ]
    },
    {
     "name": "stderr",
     "output_type": "stream",
     "text": [
      "\n",
      "\n",
      "  0%|          | 0/8 [00:00<?, ?it/s, avg_loss=0.405]\u001b[A\u001b[A\n",
      "\n",
      " 12%|█▎        | 1/8 [00:00<00:03,  1.96it/s, avg_loss=0.405]\u001b[A\u001b[A\n",
      "\n",
      " 12%|█▎        | 1/8 [00:01<00:03,  1.96it/s, avg_loss=0.388]\u001b[A\u001b[A\n",
      "\n",
      " 25%|██▌       | 2/8 [00:01<00:03,  1.85it/s, avg_loss=0.388]\u001b[A\u001b[A\n",
      "\n",
      " 25%|██▌       | 2/8 [00:01<00:03,  1.85it/s, avg_loss=0.355]\u001b[A\u001b[A\n",
      "\n",
      " 38%|███▊      | 3/8 [00:01<00:02,  1.79it/s, avg_loss=0.355]\u001b[A\u001b[A\n",
      "\n",
      " 38%|███▊      | 3/8 [00:02<00:02,  1.79it/s, avg_loss=0.33] \u001b[A\u001b[A\n",
      "\n",
      " 50%|█████     | 4/8 [00:02<00:02,  1.48it/s, avg_loss=0.33]\u001b[A\u001b[A\n",
      "\n",
      " 50%|█████     | 4/8 [00:03<00:02,  1.48it/s, avg_loss=0.295]\u001b[A\u001b[A\n",
      "\n",
      " 62%|██████▎   | 5/8 [00:03<00:01,  1.51it/s, avg_loss=0.295]\u001b[A\u001b[A\n",
      "\n",
      " 62%|██████▎   | 5/8 [00:03<00:01,  1.51it/s, avg_loss=0.276]\u001b[A\u001b[A\n",
      "\n",
      " 75%|███████▌  | 6/8 [00:03<00:01,  1.58it/s, avg_loss=0.276]\u001b[A\u001b[A\n",
      "\n",
      " 75%|███████▌  | 6/8 [00:04<00:01,  1.58it/s, avg_loss=0.262]\u001b[A\u001b[A\n",
      "\n",
      " 88%|████████▊ | 7/8 [00:04<00:00,  1.62it/s, avg_loss=0.262]\u001b[A\u001b[A\n",
      "\n",
      " 88%|████████▊ | 7/8 [00:04<00:00,  1.62it/s, avg_loss=2.96] \u001b[A\u001b[A\n",
      "\n",
      "100%|██████████| 8/8 [00:04<00:00,  2.15it/s, avg_loss=2.96]\u001b[A\u001b[A\n",
      "\n",
      "\u001b[A\u001b[A\n",
      "\n",
      "  0%|          | 0/8 [00:00<?, ?it/s]\u001b[A\u001b[A"
     ]
    },
    {
     "name": "stdout",
     "output_type": "stream",
     "text": [
      "Saving model at iteration 0 with best score 0.848\n",
      "[E:0]\tTrain Loss: 0.261\tDev score: 0.848\n"
     ]
    },
    {
     "name": "stderr",
     "output_type": "stream",
     "text": [
      "\n",
      "\n",
      "  0%|          | 0/8 [00:00<?, ?it/s, avg_loss=2.08]\u001b[A\u001b[A\n",
      "\n",
      " 12%|█▎        | 1/8 [00:00<00:03,  1.86it/s, avg_loss=2.08]\u001b[A\u001b[A\n",
      "\n",
      " 12%|█▎        | 1/8 [00:01<00:03,  1.86it/s, avg_loss=1.14]\u001b[A\u001b[A\n",
      "\n",
      " 25%|██▌       | 2/8 [00:01<00:03,  1.80it/s, avg_loss=1.14]\u001b[A\u001b[A\n",
      "\n",
      " 25%|██▌       | 2/8 [00:01<00:03,  1.80it/s, avg_loss=0.879]\u001b[A\u001b[A\n",
      "\n",
      " 38%|███▊      | 3/8 [00:01<00:02,  1.78it/s, avg_loss=0.879]\u001b[A\u001b[A\n",
      "\n",
      " 38%|███▊      | 3/8 [00:02<00:02,  1.78it/s, avg_loss=0.709]\u001b[A\u001b[A\n",
      "\n",
      " 50%|█████     | 4/8 [00:02<00:02,  1.57it/s, avg_loss=0.709]\u001b[A\u001b[A\n",
      "\n",
      " 50%|█████     | 4/8 [00:03<00:02,  1.57it/s, avg_loss=0.644]\u001b[A\u001b[A\n",
      "\n",
      " 62%|██████▎   | 5/8 [00:03<00:01,  1.58it/s, avg_loss=0.644]\u001b[A\u001b[A\n",
      "\n",
      " 62%|██████▎   | 5/8 [00:03<00:01,  1.58it/s, avg_loss=0.584]\u001b[A\u001b[A\n",
      "\n",
      " 75%|███████▌  | 6/8 [00:03<00:01,  1.63it/s, avg_loss=0.584]\u001b[A\u001b[A\n",
      "\n",
      " 75%|███████▌  | 6/8 [00:04<00:01,  1.63it/s, avg_loss=0.831]\u001b[A\u001b[A\n",
      "\n",
      " 88%|████████▊ | 7/8 [00:04<00:00,  1.64it/s, avg_loss=0.831]\u001b[A\u001b[A\n",
      "\n",
      " 88%|████████▊ | 7/8 [00:04<00:00,  1.64it/s, avg_loss=9.35] \u001b[A\u001b[A\n",
      "\n",
      "100%|██████████| 8/8 [00:04<00:00,  2.18it/s, avg_loss=9.35]\u001b[A\u001b[A\n",
      "\n",
      "\u001b[A\u001b[A\n",
      "\n",
      "  0%|          | 0/8 [00:00<?, ?it/s]\u001b[A\u001b[A"
     ]
    },
    {
     "name": "stdout",
     "output_type": "stream",
     "text": [
      "[E:1]\tTrain Loss: 0.826\tDev score: 0.848\n"
     ]
    },
    {
     "name": "stderr",
     "output_type": "stream",
     "text": [
      "\n",
      "\n",
      "  0%|          | 0/8 [00:00<?, ?it/s, avg_loss=0.313]\u001b[A\u001b[A\n",
      "\n",
      " 12%|█▎        | 1/8 [00:00<00:03,  2.07it/s, avg_loss=0.313]\u001b[A\u001b[A\n",
      "\n",
      " 12%|█▎        | 1/8 [00:01<00:03,  2.07it/s, avg_loss=0.271]\u001b[A\u001b[A\n",
      "\n",
      " 25%|██▌       | 2/8 [00:01<00:03,  1.99it/s, avg_loss=0.271]\u001b[A\u001b[A\n",
      "\n",
      " 25%|██▌       | 2/8 [00:01<00:03,  1.99it/s, avg_loss=0.252]\u001b[A\u001b[A\n",
      "\n",
      " 38%|███▊      | 3/8 [00:01<00:02,  1.89it/s, avg_loss=0.252]\u001b[A\u001b[A\n",
      "\n",
      " 38%|███▊      | 3/8 [00:02<00:02,  1.89it/s, avg_loss=0.239]\u001b[A\u001b[A\n",
      "\n",
      " 50%|█████     | 4/8 [00:02<00:02,  1.62it/s, avg_loss=0.239]\u001b[A\u001b[A\n",
      "\n",
      " 50%|█████     | 4/8 [00:03<00:02,  1.62it/s, avg_loss=0.23] \u001b[A\u001b[A\n",
      "\n",
      " 62%|██████▎   | 5/8 [00:03<00:01,  1.60it/s, avg_loss=0.23]\u001b[A\u001b[A\n",
      "\n",
      " 62%|██████▎   | 5/8 [00:03<00:01,  1.60it/s, avg_loss=0.223]\u001b[A\u001b[A\n",
      "\n",
      " 75%|███████▌  | 6/8 [00:03<00:01,  1.64it/s, avg_loss=0.223]\u001b[A\u001b[A\n",
      "\n",
      " 75%|███████▌  | 6/8 [00:04<00:01,  1.64it/s, avg_loss=0.22] \u001b[A\u001b[A\n",
      "\n",
      " 88%|████████▊ | 7/8 [00:04<00:00,  1.58it/s, avg_loss=0.22]\u001b[A\u001b[A\n",
      "\n",
      " 88%|████████▊ | 7/8 [00:04<00:00,  1.58it/s, avg_loss=2.5] \u001b[A\u001b[A\n",
      "\n",
      "100%|██████████| 8/8 [00:04<00:00,  2.11it/s, avg_loss=2.5]\u001b[A\u001b[A\n",
      "\n",
      "\u001b[A\u001b[A\n",
      "\n",
      "  0%|          | 0/8 [00:00<?, ?it/s]\u001b[A\u001b[A"
     ]
    },
    {
     "name": "stdout",
     "output_type": "stream",
     "text": [
      "[E:2]\tTrain Loss: 0.221\tDev score: 0.848\n"
     ]
    },
    {
     "name": "stderr",
     "output_type": "stream",
     "text": [
      "\n",
      "\n",
      "  0%|          | 0/8 [00:00<?, ?it/s, avg_loss=0.26]\u001b[A\u001b[A\n",
      "\n",
      " 12%|█▎        | 1/8 [00:00<00:03,  1.83it/s, avg_loss=0.26]\u001b[A\u001b[A\n",
      "\n",
      " 12%|█▎        | 1/8 [00:01<00:03,  1.83it/s, avg_loss=0.236]\u001b[A\u001b[A\n",
      "\n",
      " 25%|██▌       | 2/8 [00:01<00:03,  1.77it/s, avg_loss=0.236]\u001b[A\u001b[A\n",
      "\n",
      " 25%|██▌       | 2/8 [00:01<00:03,  1.77it/s, avg_loss=0.229]\u001b[A\u001b[A\n",
      "\n",
      " 38%|███▊      | 3/8 [00:01<00:02,  1.69it/s, avg_loss=0.229]\u001b[A\u001b[A\n",
      "\n",
      " 38%|███▊      | 3/8 [00:02<00:02,  1.69it/s, avg_loss=0.222]\u001b[A\u001b[A\n",
      "\n",
      " 50%|█████     | 4/8 [00:02<00:02,  1.51it/s, avg_loss=0.222]\u001b[A\u001b[A\n",
      "\n",
      " 50%|█████     | 4/8 [00:03<00:02,  1.51it/s, avg_loss=0.213]\u001b[A\u001b[A\n",
      "\n",
      " 62%|██████▎   | 5/8 [00:03<00:02,  1.43it/s, avg_loss=0.213]\u001b[A\u001b[A\n",
      "\n",
      " 62%|██████▎   | 5/8 [00:03<00:02,  1.43it/s, avg_loss=0.209]\u001b[A\u001b[A\n",
      "\n",
      " 75%|███████▌  | 6/8 [00:03<00:01,  1.51it/s, avg_loss=0.209]\u001b[A\u001b[A\n",
      "\n",
      " 75%|███████▌  | 6/8 [00:04<00:01,  1.51it/s, avg_loss=0.208]\u001b[A\u001b[A\n",
      "\n",
      " 88%|████████▊ | 7/8 [00:04<00:00,  1.58it/s, avg_loss=0.208]\u001b[A\u001b[A\n",
      "\n",
      " 88%|████████▊ | 7/8 [00:04<00:00,  1.58it/s, avg_loss=2.37] \u001b[A\u001b[A\n",
      "\n",
      "100%|██████████| 8/8 [00:04<00:00,  2.11it/s, avg_loss=2.37]\u001b[A\u001b[A\n",
      "\n",
      "\u001b[A\u001b[A\n",
      "\n",
      "  0%|          | 0/8 [00:00<?, ?it/s]\u001b[A\u001b[A"
     ]
    },
    {
     "name": "stdout",
     "output_type": "stream",
     "text": [
      "[E:3]\tTrain Loss: 0.209\tDev score: 0.848\n"
     ]
    },
    {
     "name": "stderr",
     "output_type": "stream",
     "text": [
      "\n",
      "\n",
      "  0%|          | 0/8 [00:00<?, ?it/s, avg_loss=0.283]\u001b[A\u001b[A\n",
      "\n",
      " 12%|█▎        | 1/8 [00:00<00:03,  2.00it/s, avg_loss=0.283]\u001b[A\u001b[A\n",
      "\n",
      " 12%|█▎        | 1/8 [00:01<00:03,  2.00it/s, avg_loss=0.25] \u001b[A\u001b[A\n",
      "\n",
      " 25%|██▌       | 2/8 [00:01<00:03,  1.70it/s, avg_loss=0.25]\u001b[A\u001b[A\n",
      "\n",
      " 25%|██▌       | 2/8 [00:01<00:03,  1.70it/s, avg_loss=0.238]\u001b[A\u001b[A\n",
      "\n",
      " 38%|███▊      | 3/8 [00:01<00:03,  1.65it/s, avg_loss=0.238]\u001b[A\u001b[A\n",
      "\n",
      " 38%|███▊      | 3/8 [00:02<00:03,  1.65it/s, avg_loss=0.228]\u001b[A\u001b[A\n",
      "\n",
      " 50%|█████     | 4/8 [00:02<00:02,  1.49it/s, avg_loss=0.228]\u001b[A\u001b[A\n",
      "\n",
      " 50%|█████     | 4/8 [00:03<00:02,  1.49it/s, avg_loss=0.217]\u001b[A\u001b[A\n",
      "\n",
      " 62%|██████▎   | 5/8 [00:03<00:01,  1.52it/s, avg_loss=0.217]\u001b[A\u001b[A\n",
      "\n",
      " 62%|██████▎   | 5/8 [00:03<00:01,  1.52it/s, avg_loss=0.212]\u001b[A\u001b[A\n",
      "\n",
      " 75%|███████▌  | 6/8 [00:03<00:01,  1.59it/s, avg_loss=0.212]\u001b[A\u001b[A\n",
      "\n",
      " 75%|███████▌  | 6/8 [00:04<00:01,  1.59it/s, avg_loss=0.211]\u001b[A\u001b[A\n",
      "\n",
      " 88%|████████▊ | 7/8 [00:04<00:00,  1.65it/s, avg_loss=0.211]\u001b[A\u001b[A\n",
      "\n",
      " 88%|████████▊ | 7/8 [00:04<00:00,  1.65it/s, avg_loss=2.39] \u001b[A\u001b[A\n",
      "\n",
      "100%|██████████| 8/8 [00:04<00:00,  2.20it/s, avg_loss=2.39]\u001b[A\u001b[A\n",
      "\n",
      "\u001b[A\u001b[A\n",
      "\n",
      "  0%|          | 0/8 [00:00<?, ?it/s]\u001b[A\u001b[A"
     ]
    },
    {
     "name": "stdout",
     "output_type": "stream",
     "text": [
      "[E:4]\tTrain Loss: 0.211\tDev score: 0.848\n"
     ]
    },
    {
     "name": "stderr",
     "output_type": "stream",
     "text": [
      "\n",
      "\n",
      "  0%|          | 0/8 [00:00<?, ?it/s, avg_loss=0.262]\u001b[A\u001b[A\n",
      "\n",
      " 12%|█▎        | 1/8 [00:00<00:03,  2.09it/s, avg_loss=0.262]\u001b[A\u001b[A\n",
      "\n",
      " 12%|█▎        | 1/8 [00:01<00:03,  2.09it/s, avg_loss=0.237]\u001b[A\u001b[A\n",
      "\n",
      " 25%|██▌       | 2/8 [00:01<00:02,  2.01it/s, avg_loss=0.237]\u001b[A\u001b[A\n",
      "\n",
      " 25%|██▌       | 2/8 [00:01<00:02,  2.01it/s, avg_loss=0.229]\u001b[A\u001b[A\n",
      "\n",
      " 38%|███▊      | 3/8 [00:01<00:02,  1.93it/s, avg_loss=0.229]\u001b[A\u001b[A\n",
      "\n",
      " 38%|███▊      | 3/8 [00:02<00:02,  1.93it/s, avg_loss=0.22] \u001b[A\u001b[A\n",
      "\n",
      " 50%|█████     | 4/8 [00:02<00:02,  1.65it/s, avg_loss=0.22]\u001b[A\u001b[A\n",
      "\n",
      " 50%|█████     | 4/8 [00:03<00:02,  1.65it/s, avg_loss=0.211]\u001b[A\u001b[A\n",
      "\n",
      " 62%|██████▎   | 5/8 [00:03<00:01,  1.62it/s, avg_loss=0.211]\u001b[A\u001b[A\n",
      "\n",
      " 62%|██████▎   | 5/8 [00:03<00:01,  1.62it/s, avg_loss=0.207]\u001b[A\u001b[A\n",
      "\n",
      " 75%|███████▌  | 6/8 [00:03<00:01,  1.66it/s, avg_loss=0.207]\u001b[A\u001b[A\n",
      "\n",
      " 75%|███████▌  | 6/8 [00:04<00:01,  1.66it/s, avg_loss=0.206]\u001b[A\u001b[A\n",
      "\n",
      " 88%|████████▊ | 7/8 [00:04<00:00,  1.71it/s, avg_loss=0.206]\u001b[A\u001b[A\n",
      "\n",
      " 88%|████████▊ | 7/8 [00:04<00:00,  1.71it/s, avg_loss=2.33] \u001b[A\u001b[A\n",
      "\n",
      "100%|██████████| 8/8 [00:04<00:00,  2.27it/s, avg_loss=2.33]\u001b[A\u001b[A\n",
      "\n",
      "\u001b[A\u001b[A\n",
      "\n",
      "  0%|          | 0/8 [00:00<?, ?it/s]\u001b[A\u001b[A"
     ]
    },
    {
     "name": "stdout",
     "output_type": "stream",
     "text": [
      "[E:5]\tTrain Loss: 0.206\tDev score: 0.848\n"
     ]
    },
    {
     "name": "stderr",
     "output_type": "stream",
     "text": [
      "\n",
      "\n",
      "  0%|          | 0/8 [00:00<?, ?it/s, avg_loss=0.256]\u001b[A\u001b[A\n",
      "\n",
      " 12%|█▎        | 1/8 [00:00<00:03,  2.08it/s, avg_loss=0.256]\u001b[A\u001b[A\n",
      "\n",
      " 12%|█▎        | 1/8 [00:01<00:03,  2.08it/s, avg_loss=0.232]\u001b[A\u001b[A\n",
      "\n",
      " 25%|██▌       | 2/8 [00:01<00:02,  2.00it/s, avg_loss=0.232]\u001b[A\u001b[A\n",
      "\n",
      " 25%|██▌       | 2/8 [00:01<00:02,  2.00it/s, avg_loss=0.224]\u001b[A\u001b[A\n",
      "\n",
      " 38%|███▊      | 3/8 [00:01<00:02,  1.92it/s, avg_loss=0.224]\u001b[A\u001b[A\n",
      "\n",
      " 38%|███▊      | 3/8 [00:02<00:02,  1.92it/s, avg_loss=0.217]\u001b[A\u001b[A\n",
      "\n",
      " 50%|█████     | 4/8 [00:02<00:02,  1.65it/s, avg_loss=0.217]\u001b[A\u001b[A\n",
      "\n",
      " 50%|█████     | 4/8 [00:03<00:02,  1.65it/s, avg_loss=0.206]\u001b[A\u001b[A\n",
      "\n",
      " 62%|██████▎   | 5/8 [00:03<00:01,  1.63it/s, avg_loss=0.206]\u001b[A\u001b[A\n",
      "\n",
      " 62%|██████▎   | 5/8 [00:03<00:01,  1.63it/s, avg_loss=0.202]\u001b[A\u001b[A\n",
      "\n",
      " 75%|███████▌  | 6/8 [00:03<00:01,  1.67it/s, avg_loss=0.202]\u001b[A\u001b[A\n",
      "\n",
      " 75%|███████▌  | 6/8 [00:04<00:01,  1.67it/s, avg_loss=0.2]  \u001b[A\u001b[A\n",
      "\n",
      " 88%|████████▊ | 7/8 [00:04<00:00,  1.71it/s, avg_loss=0.2]\u001b[A\u001b[A\n",
      "\n",
      " 88%|████████▊ | 7/8 [00:04<00:00,  1.71it/s, avg_loss=2.27]\u001b[A\u001b[A\n",
      "\n",
      "100%|██████████| 8/8 [00:04<00:00,  2.27it/s, avg_loss=2.27]\u001b[A\u001b[A\n",
      "\n",
      "\u001b[A\u001b[A\n",
      "\n",
      "  0%|          | 0/8 [00:00<?, ?it/s]\u001b[A\u001b[A"
     ]
    },
    {
     "name": "stdout",
     "output_type": "stream",
     "text": [
      "[E:6]\tTrain Loss: 0.201\tDev score: 0.848\n"
     ]
    },
    {
     "name": "stderr",
     "output_type": "stream",
     "text": [
      "\n",
      "\n",
      "  0%|          | 0/8 [00:00<?, ?it/s, avg_loss=0.25]\u001b[A\u001b[A\n",
      "\n",
      " 12%|█▎        | 1/8 [00:00<00:03,  1.98it/s, avg_loss=0.25]\u001b[A\u001b[A\n",
      "\n",
      " 12%|█▎        | 1/8 [00:01<00:03,  1.98it/s, avg_loss=0.227]\u001b[A\u001b[A\n",
      "\n",
      " 25%|██▌       | 2/8 [00:01<00:03,  1.89it/s, avg_loss=0.227]\u001b[A\u001b[A\n",
      "\n",
      " 25%|██▌       | 2/8 [00:01<00:03,  1.89it/s, avg_loss=0.218]\u001b[A\u001b[A\n",
      "\n",
      " 38%|███▊      | 3/8 [00:01<00:02,  1.84it/s, avg_loss=0.218]\u001b[A\u001b[A\n",
      "\n",
      " 38%|███▊      | 3/8 [00:02<00:02,  1.84it/s, avg_loss=0.211]\u001b[A\u001b[A\n",
      "\n",
      " 50%|█████     | 4/8 [00:02<00:02,  1.60it/s, avg_loss=0.211]\u001b[A\u001b[A\n",
      "\n",
      " 50%|█████     | 4/8 [00:03<00:02,  1.60it/s, avg_loss=0.2]  \u001b[A\u001b[A\n",
      "\n",
      " 62%|██████▎   | 5/8 [00:03<00:01,  1.59it/s, avg_loss=0.2]\u001b[A\u001b[A\n",
      "\n",
      " 62%|██████▎   | 5/8 [00:03<00:01,  1.59it/s, avg_loss=0.196]\u001b[A\u001b[A\n",
      "\n",
      " 75%|███████▌  | 6/8 [00:03<00:01,  1.63it/s, avg_loss=0.196]\u001b[A\u001b[A\n",
      "\n",
      " 75%|███████▌  | 6/8 [00:04<00:01,  1.63it/s, avg_loss=0.195]\u001b[A\u001b[A\n",
      "\n",
      " 88%|████████▊ | 7/8 [00:04<00:00,  1.68it/s, avg_loss=0.195]\u001b[A\u001b[A\n",
      "\n",
      " 88%|████████▊ | 7/8 [00:04<00:00,  1.68it/s, avg_loss=2.21] \u001b[A\u001b[A\n",
      "\n",
      "100%|██████████| 8/8 [00:04<00:00,  2.23it/s, avg_loss=2.21]\u001b[A\u001b[A\n",
      "\n",
      "\u001b[A\u001b[A\n",
      "\n",
      "  0%|          | 0/8 [00:00<?, ?it/s]\u001b[A\u001b[A"
     ]
    },
    {
     "name": "stdout",
     "output_type": "stream",
     "text": [
      "[E:7]\tTrain Loss: 0.195\tDev score: 0.848\n"
     ]
    },
    {
     "name": "stderr",
     "output_type": "stream",
     "text": [
      "\n",
      "\n",
      "  0%|          | 0/8 [00:00<?, ?it/s, avg_loss=0.241]\u001b[A\u001b[A\n",
      "\n",
      " 12%|█▎        | 1/8 [00:00<00:03,  2.09it/s, avg_loss=0.241]\u001b[A\u001b[A\n",
      "\n",
      " 12%|█▎        | 1/8 [00:01<00:03,  2.09it/s, avg_loss=0.218]\u001b[A\u001b[A\n",
      "\n",
      " 25%|██▌       | 2/8 [00:01<00:02,  2.00it/s, avg_loss=0.218]\u001b[A\u001b[A\n",
      "\n",
      " 25%|██▌       | 2/8 [00:01<00:02,  2.00it/s, avg_loss=0.209]\u001b[A\u001b[A\n",
      "\n",
      " 38%|███▊      | 3/8 [00:01<00:02,  1.84it/s, avg_loss=0.209]\u001b[A\u001b[A\n",
      "\n",
      " 38%|███▊      | 3/8 [00:02<00:02,  1.84it/s, avg_loss=0.203]\u001b[A\u001b[A\n",
      "\n",
      " 50%|█████     | 4/8 [00:02<00:02,  1.60it/s, avg_loss=0.203]\u001b[A\u001b[A\n",
      "\n",
      " 50%|█████     | 4/8 [00:03<00:02,  1.60it/s, avg_loss=0.191]\u001b[A\u001b[A\n",
      "\n",
      " 62%|██████▎   | 5/8 [00:03<00:01,  1.60it/s, avg_loss=0.191]\u001b[A\u001b[A\n",
      "\n",
      " 62%|██████▎   | 5/8 [00:03<00:01,  1.60it/s, avg_loss=0.187]\u001b[A\u001b[A\n",
      "\n",
      " 75%|███████▌  | 6/8 [00:03<00:01,  1.64it/s, avg_loss=0.187]\u001b[A\u001b[A\n",
      "\n",
      " 75%|███████▌  | 6/8 [00:04<00:01,  1.64it/s, avg_loss=0.185]\u001b[A\u001b[A\n",
      "\n",
      " 88%|████████▊ | 7/8 [00:04<00:00,  1.69it/s, avg_loss=0.185]\u001b[A\u001b[A\n",
      "\n",
      " 88%|████████▊ | 7/8 [00:04<00:00,  1.69it/s, avg_loss=2.1]  \u001b[A\u001b[A\n",
      "\n",
      "100%|██████████| 8/8 [00:04<00:00,  2.23it/s, avg_loss=2.1]\u001b[A\u001b[A\n",
      "\n",
      "\u001b[A\u001b[A\n",
      "\n",
      "  0%|          | 0/8 [00:00<?, ?it/s]\u001b[A\u001b[A"
     ]
    },
    {
     "name": "stdout",
     "output_type": "stream",
     "text": [
      "[E:8]\tTrain Loss: 0.185\tDev score: 0.848\n"
     ]
    },
    {
     "name": "stderr",
     "output_type": "stream",
     "text": [
      "\n",
      "\n",
      "  0%|          | 0/8 [00:00<?, ?it/s, avg_loss=0.23]\u001b[A\u001b[A\n",
      "\n",
      " 12%|█▎        | 1/8 [00:00<00:04,  1.70it/s, avg_loss=0.23]\u001b[A\u001b[A\n",
      "\n",
      " 12%|█▎        | 1/8 [00:01<00:04,  1.70it/s, avg_loss=0.207]\u001b[A\u001b[A\n",
      "\n",
      " 25%|██▌       | 2/8 [00:01<00:03,  1.71it/s, avg_loss=0.207]\u001b[A\u001b[A\n",
      "\n",
      " 25%|██▌       | 2/8 [00:01<00:03,  1.71it/s, avg_loss=0.198]\u001b[A\u001b[A\n",
      "\n",
      " 38%|███▊      | 3/8 [00:01<00:02,  1.69it/s, avg_loss=0.198]\u001b[A\u001b[A\n",
      "\n",
      " 38%|███▊      | 3/8 [00:02<00:02,  1.69it/s, avg_loss=0.191]\u001b[A\u001b[A\n",
      "\n",
      " 50%|█████     | 4/8 [00:02<00:02,  1.50it/s, avg_loss=0.191]\u001b[A\u001b[A\n",
      "\n",
      " 50%|█████     | 4/8 [00:03<00:02,  1.50it/s, avg_loss=0.181]\u001b[A\u001b[A\n",
      "\n",
      " 62%|██████▎   | 5/8 [00:03<00:01,  1.51it/s, avg_loss=0.181]\u001b[A\u001b[A\n",
      "\n",
      " 62%|██████▎   | 5/8 [00:03<00:01,  1.51it/s, avg_loss=0.176]\u001b[A\u001b[A\n",
      "\n",
      " 75%|███████▌  | 6/8 [00:03<00:01,  1.56it/s, avg_loss=0.176]\u001b[A\u001b[A\n",
      "\n",
      " 75%|███████▌  | 6/8 [00:04<00:01,  1.56it/s, avg_loss=0.174]\u001b[A\u001b[A\n",
      "\n",
      " 88%|████████▊ | 7/8 [00:04<00:00,  1.61it/s, avg_loss=0.174]\u001b[A\u001b[A\n",
      "\n",
      " 88%|████████▊ | 7/8 [00:04<00:00,  1.61it/s, avg_loss=1.96] \u001b[A\u001b[A\n",
      "\n",
      "100%|██████████| 8/8 [00:04<00:00,  2.14it/s, avg_loss=1.96]\u001b[A\u001b[A\n",
      "\n",
      "\u001b[A\u001b[A\n",
      "\n",
      "  0%|          | 0/8 [00:00<?, ?it/s]\u001b[A\u001b[A"
     ]
    },
    {
     "name": "stdout",
     "output_type": "stream",
     "text": [
      "[E:9]\tTrain Loss: 0.173\tDev score: 0.848\n"
     ]
    },
    {
     "name": "stderr",
     "output_type": "stream",
     "text": [
      "\n",
      "\n",
      "  0%|          | 0/8 [00:00<?, ?it/s, avg_loss=0.232]\u001b[A\u001b[A\n",
      "\n",
      " 12%|█▎        | 1/8 [00:00<00:03,  1.98it/s, avg_loss=0.232]\u001b[A\u001b[A\n",
      "\n",
      " 12%|█▎        | 1/8 [00:01<00:03,  1.98it/s, avg_loss=0.206]\u001b[A\u001b[A\n",
      "\n",
      " 25%|██▌       | 2/8 [00:01<00:03,  1.88it/s, avg_loss=0.206]\u001b[A\u001b[A\n",
      "\n",
      " 25%|██▌       | 2/8 [00:01<00:03,  1.88it/s, avg_loss=0.195]\u001b[A\u001b[A\n",
      "\n",
      " 38%|███▊      | 3/8 [00:01<00:02,  1.81it/s, avg_loss=0.195]\u001b[A\u001b[A\n",
      "\n",
      " 38%|███▊      | 3/8 [00:02<00:02,  1.81it/s, avg_loss=0.188]\u001b[A\u001b[A\n",
      "\n",
      " 50%|█████     | 4/8 [00:02<00:02,  1.57it/s, avg_loss=0.188]\u001b[A\u001b[A\n",
      "\n",
      " 50%|█████     | 4/8 [00:03<00:02,  1.57it/s, avg_loss=0.176]\u001b[A\u001b[A\n",
      "\n",
      " 62%|██████▎   | 5/8 [00:03<00:01,  1.56it/s, avg_loss=0.176]\u001b[A\u001b[A\n",
      "\n",
      " 62%|██████▎   | 5/8 [00:03<00:01,  1.56it/s, avg_loss=0.171]\u001b[A\u001b[A\n",
      "\n",
      " 75%|███████▌  | 6/8 [00:03<00:01,  1.60it/s, avg_loss=0.171]\u001b[A\u001b[A\n",
      "\n",
      " 75%|███████▌  | 6/8 [00:04<00:01,  1.60it/s, avg_loss=0.168]\u001b[A\u001b[A\n",
      "\n",
      " 88%|████████▊ | 7/8 [00:04<00:00,  1.62it/s, avg_loss=0.168]\u001b[A\u001b[A\n",
      "\n",
      " 88%|████████▊ | 7/8 [00:04<00:00,  1.62it/s, avg_loss=1.9]  \u001b[A\u001b[A\n",
      "\n",
      "100%|██████████| 8/8 [00:04<00:00,  2.15it/s, avg_loss=1.9]\u001b[A\u001b[A\n",
      "\n",
      "\u001b[A\u001b[A\n",
      "\n",
      "  0%|          | 0/8 [00:00<?, ?it/s]\u001b[A\u001b[A"
     ]
    },
    {
     "name": "stdout",
     "output_type": "stream",
     "text": [
      "[E:10]\tTrain Loss: 0.168\tDev score: 0.848\n"
     ]
    },
    {
     "name": "stderr",
     "output_type": "stream",
     "text": [
      "\n",
      "\n",
      "  0%|          | 0/8 [00:00<?, ?it/s, avg_loss=0.214]\u001b[A\u001b[A\n",
      "\n",
      " 12%|█▎        | 1/8 [00:00<00:03,  2.03it/s, avg_loss=0.214]\u001b[A\u001b[A\n",
      "\n",
      " 12%|█▎        | 1/8 [00:01<00:03,  2.03it/s, avg_loss=0.193]\u001b[A\u001b[A\n",
      "\n",
      " 25%|██▌       | 2/8 [00:01<00:03,  1.97it/s, avg_loss=0.193]\u001b[A\u001b[A\n",
      "\n",
      " 25%|██▌       | 2/8 [00:01<00:03,  1.97it/s, avg_loss=0.184]\u001b[A\u001b[A\n",
      "\n",
      " 38%|███▊      | 3/8 [00:01<00:02,  1.89it/s, avg_loss=0.184]\u001b[A\u001b[A\n",
      "\n",
      " 38%|███▊      | 3/8 [00:02<00:02,  1.89it/s, avg_loss=0.179]\u001b[A\u001b[A\n",
      "\n",
      " 50%|█████     | 4/8 [00:02<00:02,  1.44it/s, avg_loss=0.179]\u001b[A\u001b[A\n",
      "\n",
      " 50%|█████     | 4/8 [00:03<00:02,  1.44it/s, avg_loss=0.167]\u001b[A\u001b[A\n",
      "\n",
      " 62%|██████▎   | 5/8 [00:03<00:02,  1.45it/s, avg_loss=0.167]\u001b[A\u001b[A\n",
      "\n",
      " 62%|██████▎   | 5/8 [00:03<00:02,  1.45it/s, avg_loss=0.162]\u001b[A\u001b[A\n",
      "\n",
      " 75%|███████▌  | 6/8 [00:03<00:01,  1.53it/s, avg_loss=0.162]\u001b[A\u001b[A\n",
      "\n",
      " 75%|███████▌  | 6/8 [00:04<00:01,  1.53it/s, avg_loss=0.16] \u001b[A\u001b[A\n",
      "\n",
      " 88%|████████▊ | 7/8 [00:04<00:00,  1.60it/s, avg_loss=0.16]\u001b[A\u001b[A\n",
      "\n",
      " 88%|████████▊ | 7/8 [00:04<00:00,  1.60it/s, avg_loss=1.81]\u001b[A\u001b[A\n",
      "\n",
      "100%|██████████| 8/8 [00:04<00:00,  2.13it/s, avg_loss=1.81]\u001b[A\u001b[A\n",
      "\n",
      "\u001b[A\u001b[A\n",
      "\n",
      "  0%|          | 0/8 [00:00<?, ?it/s]\u001b[A\u001b[A"
     ]
    },
    {
     "name": "stdout",
     "output_type": "stream",
     "text": [
      "[E:11]\tTrain Loss: 0.160\tDev score: 0.848\n"
     ]
    },
    {
     "name": "stderr",
     "output_type": "stream",
     "text": [
      "\n",
      "\n",
      "  0%|          | 0/8 [00:00<?, ?it/s, avg_loss=0.202]\u001b[A\u001b[A\n",
      "\n",
      " 12%|█▎        | 1/8 [00:00<00:03,  2.09it/s, avg_loss=0.202]\u001b[A\u001b[A\n",
      "\n",
      " 12%|█▎        | 1/8 [00:01<00:03,  2.09it/s, avg_loss=0.184]\u001b[A\u001b[A\n",
      "\n",
      " 25%|██▌       | 2/8 [00:01<00:03,  2.00it/s, avg_loss=0.184]\u001b[A\u001b[A\n",
      "\n",
      " 25%|██▌       | 2/8 [00:01<00:03,  2.00it/s, avg_loss=0.176]\u001b[A\u001b[A\n",
      "\n",
      " 38%|███▊      | 3/8 [00:01<00:02,  1.91it/s, avg_loss=0.176]\u001b[A\u001b[A\n",
      "\n",
      " 38%|███▊      | 3/8 [00:02<00:02,  1.91it/s, avg_loss=0.172]\u001b[A\u001b[A\n",
      "\n",
      " 50%|█████     | 4/8 [00:02<00:02,  1.63it/s, avg_loss=0.172]\u001b[A\u001b[A\n",
      "\n",
      " 50%|█████     | 4/8 [00:03<00:02,  1.63it/s, avg_loss=0.16] \u001b[A\u001b[A\n",
      "\n",
      " 62%|██████▎   | 5/8 [00:03<00:01,  1.62it/s, avg_loss=0.16]\u001b[A\u001b[A\n",
      "\n",
      " 62%|██████▎   | 5/8 [00:03<00:01,  1.62it/s, avg_loss=0.155]\u001b[A\u001b[A\n",
      "\n",
      " 75%|███████▌  | 6/8 [00:03<00:01,  1.65it/s, avg_loss=0.155]\u001b[A\u001b[A\n",
      "\n",
      " 75%|███████▌  | 6/8 [00:04<00:01,  1.65it/s, avg_loss=0.153]\u001b[A\u001b[A\n",
      "\n",
      " 88%|████████▊ | 7/8 [00:04<00:00,  1.45it/s, avg_loss=0.153]\u001b[A\u001b[A\n",
      "\n",
      " 88%|████████▊ | 7/8 [00:04<00:00,  1.45it/s, avg_loss=1.73] \u001b[A\u001b[A\n",
      "\n",
      "100%|██████████| 8/8 [00:04<00:00,  1.94it/s, avg_loss=1.73]\u001b[A\u001b[A\n",
      "\n",
      "\u001b[A\u001b[A\n",
      "\n",
      "  0%|          | 0/8 [00:00<?, ?it/s]\u001b[A\u001b[A"
     ]
    },
    {
     "name": "stdout",
     "output_type": "stream",
     "text": [
      "[E:12]\tTrain Loss: 0.153\tDev score: 0.848\n"
     ]
    },
    {
     "name": "stderr",
     "output_type": "stream",
     "text": [
      "\n",
      "\n",
      "  0%|          | 0/8 [00:00<?, ?it/s, avg_loss=0.192]\u001b[A\u001b[A\n",
      "\n",
      " 12%|█▎        | 1/8 [00:00<00:03,  1.95it/s, avg_loss=0.192]\u001b[A\u001b[A\n",
      "\n",
      " 12%|█▎        | 1/8 [00:01<00:03,  1.95it/s, avg_loss=0.176]\u001b[A\u001b[A\n",
      "\n",
      " 25%|██▌       | 2/8 [00:01<00:03,  1.91it/s, avg_loss=0.176]\u001b[A\u001b[A\n",
      "\n",
      " 25%|██▌       | 2/8 [00:01<00:03,  1.91it/s, avg_loss=0.168]\u001b[A\u001b[A\n",
      "\n",
      " 38%|███▊      | 3/8 [00:01<00:02,  1.86it/s, avg_loss=0.168]\u001b[A\u001b[A\n",
      "\n",
      " 38%|███▊      | 3/8 [00:02<00:02,  1.86it/s, avg_loss=0.164]\u001b[A\u001b[A\n",
      "\n",
      " 50%|█████     | 4/8 [00:02<00:02,  1.48it/s, avg_loss=0.164]\u001b[A\u001b[A\n",
      "\n",
      " 50%|█████     | 4/8 [00:03<00:02,  1.48it/s, avg_loss=0.153]\u001b[A\u001b[A\n",
      "\n",
      " 62%|██████▎   | 5/8 [00:03<00:02,  1.46it/s, avg_loss=0.153]\u001b[A\u001b[A\n",
      "\n",
      " 62%|██████▎   | 5/8 [00:03<00:02,  1.46it/s, avg_loss=0.148]\u001b[A\u001b[A\n",
      "\n",
      " 75%|███████▌  | 6/8 [00:03<00:01,  1.52it/s, avg_loss=0.148]\u001b[A\u001b[A\n",
      "\n",
      " 75%|███████▌  | 6/8 [00:04<00:01,  1.52it/s, avg_loss=0.147]\u001b[A\u001b[A\n",
      "\n",
      " 88%|████████▊ | 7/8 [00:04<00:00,  1.54it/s, avg_loss=0.147]\u001b[A\u001b[A\n",
      "\n",
      " 88%|████████▊ | 7/8 [00:04<00:00,  1.54it/s, avg_loss=1.65] \u001b[A\u001b[A\n",
      "\n",
      "100%|██████████| 8/8 [00:04<00:00,  1.96it/s, avg_loss=1.65]\u001b[A\u001b[A\n",
      "\n",
      "\u001b[A\u001b[A\n",
      "\n",
      "  0%|          | 0/8 [00:00<?, ?it/s]\u001b[A\u001b[A"
     ]
    },
    {
     "name": "stdout",
     "output_type": "stream",
     "text": [
      "[E:13]\tTrain Loss: 0.146\tDev score: 0.848\n"
     ]
    },
    {
     "name": "stderr",
     "output_type": "stream",
     "text": [
      "\n",
      "\n",
      "  0%|          | 0/8 [00:00<?, ?it/s, avg_loss=0.183]\u001b[A\u001b[A\n",
      "\n",
      " 12%|█▎        | 1/8 [00:00<00:03,  2.00it/s, avg_loss=0.183]\u001b[A\u001b[A\n",
      "\n",
      " 12%|█▎        | 1/8 [00:01<00:03,  2.00it/s, avg_loss=0.169]\u001b[A\u001b[A\n",
      "\n",
      " 25%|██▌       | 2/8 [00:01<00:03,  1.75it/s, avg_loss=0.169]\u001b[A\u001b[A\n",
      "\n",
      " 25%|██▌       | 2/8 [00:01<00:03,  1.75it/s, avg_loss=0.161]\u001b[A\u001b[A\n",
      "\n",
      " 38%|███▊      | 3/8 [00:01<00:02,  1.68it/s, avg_loss=0.161]\u001b[A\u001b[A\n",
      "\n",
      " 38%|███▊      | 3/8 [00:02<00:02,  1.68it/s, avg_loss=0.158]\u001b[A\u001b[A\n",
      "\n",
      " 50%|█████     | 4/8 [00:02<00:02,  1.47it/s, avg_loss=0.158]\u001b[A\u001b[A\n",
      "\n",
      " 50%|█████     | 4/8 [00:03<00:02,  1.47it/s, avg_loss=0.147]\u001b[A\u001b[A\n",
      "\n",
      " 62%|██████▎   | 5/8 [00:03<00:02,  1.47it/s, avg_loss=0.147]\u001b[A\u001b[A\n",
      "\n",
      " 62%|██████▎   | 5/8 [00:04<00:02,  1.47it/s, avg_loss=0.142]\u001b[A\u001b[A\n",
      "\n",
      " 75%|███████▌  | 6/8 [00:04<00:01,  1.51it/s, avg_loss=0.142]\u001b[A\u001b[A\n",
      "\n",
      " 75%|███████▌  | 6/8 [00:04<00:01,  1.51it/s, avg_loss=0.141]\u001b[A\u001b[A\n",
      "\n",
      " 88%|████████▊ | 7/8 [00:04<00:00,  1.56it/s, avg_loss=0.141]\u001b[A\u001b[A\n",
      "\n",
      " 88%|████████▊ | 7/8 [00:04<00:00,  1.56it/s, avg_loss=1.59] \u001b[A\u001b[A\n",
      "\n",
      "100%|██████████| 8/8 [00:04<00:00,  2.07it/s, avg_loss=1.59]\u001b[A\u001b[A\n",
      "\n",
      "\u001b[A\u001b[A\n",
      "\n",
      "  0%|          | 0/8 [00:00<?, ?it/s]\u001b[A\u001b[A"
     ]
    },
    {
     "name": "stdout",
     "output_type": "stream",
     "text": [
      "[E:14]\tTrain Loss: 0.140\tDev score: 0.848\n"
     ]
    },
    {
     "name": "stderr",
     "output_type": "stream",
     "text": [
      "\n",
      "\n",
      "  0%|          | 0/8 [00:00<?, ?it/s, avg_loss=0.175]\u001b[A\u001b[A\n",
      "\n",
      " 12%|█▎        | 1/8 [00:00<00:03,  1.88it/s, avg_loss=0.175]\u001b[A\u001b[A\n",
      "\n",
      " 12%|█▎        | 1/8 [00:01<00:03,  1.88it/s, avg_loss=0.162]\u001b[A\u001b[A\n",
      "\n",
      " 25%|██▌       | 2/8 [00:01<00:03,  1.84it/s, avg_loss=0.162]\u001b[A\u001b[A\n",
      "\n",
      " 25%|██▌       | 2/8 [00:01<00:03,  1.84it/s, avg_loss=0.155]\u001b[A\u001b[A\n",
      "\n",
      " 38%|███▊      | 3/8 [00:01<00:03,  1.64it/s, avg_loss=0.155]\u001b[A\u001b[A\n",
      "\n",
      " 38%|███▊      | 3/8 [00:02<00:03,  1.64it/s, avg_loss=0.152]\u001b[A\u001b[A\n",
      "\n",
      " 50%|█████     | 4/8 [00:02<00:02,  1.43it/s, avg_loss=0.152]\u001b[A\u001b[A\n",
      "\n",
      " 50%|█████     | 4/8 [00:03<00:02,  1.43it/s, avg_loss=0.141]\u001b[A\u001b[A\n",
      "\n",
      " 62%|██████▎   | 5/8 [00:03<00:02,  1.42it/s, avg_loss=0.141]\u001b[A\u001b[A\n",
      "\n",
      " 62%|██████▎   | 5/8 [00:04<00:02,  1.42it/s, avg_loss=0.137]\u001b[A\u001b[A\n",
      "\n",
      " 75%|███████▌  | 6/8 [00:04<00:01,  1.46it/s, avg_loss=0.137]\u001b[A\u001b[A\n",
      "\n",
      " 75%|███████▌  | 6/8 [00:04<00:01,  1.46it/s, avg_loss=0.136]\u001b[A\u001b[A\n",
      "\n",
      " 88%|████████▊ | 7/8 [00:04<00:00,  1.54it/s, avg_loss=0.136]\u001b[A\u001b[A\n",
      "\n",
      " 88%|████████▊ | 7/8 [00:04<00:00,  1.54it/s, avg_loss=1.53] \u001b[A\u001b[A\n",
      "\n",
      "100%|██████████| 8/8 [00:04<00:00,  1.87it/s, avg_loss=1.53]\u001b[A\u001b[A\n",
      "\n",
      "\u001b[A\u001b[A\n",
      "\n",
      "  0%|          | 0/8 [00:00<?, ?it/s]\u001b[A\u001b[A"
     ]
    },
    {
     "name": "stdout",
     "output_type": "stream",
     "text": [
      "[E:15]\tTrain Loss: 0.135\tDev score: 0.848\n"
     ]
    },
    {
     "name": "stderr",
     "output_type": "stream",
     "text": [
      "\n",
      "\n",
      "  0%|          | 0/8 [00:00<?, ?it/s, avg_loss=0.169]\u001b[A\u001b[A\n",
      "\n",
      " 12%|█▎        | 1/8 [00:00<00:06,  1.06it/s, avg_loss=0.169]\u001b[A\u001b[A\n",
      "\n",
      " 12%|█▎        | 1/8 [00:01<00:06,  1.06it/s, avg_loss=0.157]\u001b[A\u001b[A\n",
      "\n",
      " 25%|██▌       | 2/8 [00:01<00:05,  1.14it/s, avg_loss=0.157]\u001b[A\u001b[A\n",
      "\n",
      " 25%|██▌       | 2/8 [00:02<00:05,  1.14it/s, avg_loss=0.15] \u001b[A\u001b[A\n",
      "\n",
      " 38%|███▊      | 3/8 [00:02<00:04,  1.24it/s, avg_loss=0.15]\u001b[A\u001b[A\n",
      "\n",
      " 38%|███▊      | 3/8 [00:03<00:04,  1.24it/s, avg_loss=0.147]\u001b[A\u001b[A\n",
      "\n",
      " 50%|█████     | 4/8 [00:03<00:03,  1.11it/s, avg_loss=0.147]\u001b[A\u001b[A\n",
      "\n",
      " 50%|█████     | 4/8 [00:04<00:03,  1.11it/s, avg_loss=0.136]\u001b[A\u001b[A\n",
      "\n",
      " 62%|██████▎   | 5/8 [00:04<00:02,  1.20it/s, avg_loss=0.136]\u001b[A\u001b[A\n",
      "\n",
      " 62%|██████▎   | 5/8 [00:04<00:02,  1.20it/s, avg_loss=0.132]\u001b[A\u001b[A\n",
      "\n",
      " 75%|███████▌  | 6/8 [00:04<00:01,  1.29it/s, avg_loss=0.132]\u001b[A\u001b[A\n",
      "\n",
      " 75%|███████▌  | 6/8 [00:05<00:01,  1.29it/s, avg_loss=0.132]\u001b[A\u001b[A\n",
      "\n",
      " 88%|████████▊ | 7/8 [00:05<00:00,  1.37it/s, avg_loss=0.132]\u001b[A\u001b[A\n",
      "\n",
      " 88%|████████▊ | 7/8 [00:05<00:00,  1.37it/s, avg_loss=1.48] \u001b[A\u001b[A\n",
      "\n",
      "100%|██████████| 8/8 [00:05<00:00,  1.77it/s, avg_loss=1.48]\u001b[A\u001b[A\n",
      "\n",
      "\u001b[A\u001b[A\n",
      "\n",
      "  0%|          | 0/8 [00:00<?, ?it/s]\u001b[A\u001b[A"
     ]
    },
    {
     "name": "stdout",
     "output_type": "stream",
     "text": [
      "[E:16]\tTrain Loss: 0.131\tDev score: 0.848\n"
     ]
    },
    {
     "name": "stderr",
     "output_type": "stream",
     "text": [
      "\n",
      "\n",
      "  0%|          | 0/8 [00:00<?, ?it/s, avg_loss=0.162]\u001b[A\u001b[A\n",
      "\n",
      " 12%|█▎        | 1/8 [00:00<00:03,  2.06it/s, avg_loss=0.162]\u001b[A\u001b[A\n",
      "\n",
      " 12%|█▎        | 1/8 [00:01<00:03,  2.06it/s, avg_loss=0.151]\u001b[A\u001b[A\n",
      "\n",
      " 25%|██▌       | 2/8 [00:01<00:03,  1.89it/s, avg_loss=0.151]\u001b[A\u001b[A\n",
      "\n",
      " 25%|██▌       | 2/8 [00:01<00:03,  1.89it/s, avg_loss=0.145]\u001b[A\u001b[A\n",
      "\n",
      " 38%|███▊      | 3/8 [00:01<00:03,  1.65it/s, avg_loss=0.145]\u001b[A\u001b[A\n",
      "\n",
      " 38%|███▊      | 3/8 [00:02<00:03,  1.65it/s, avg_loss=0.143]\u001b[A\u001b[A\n",
      "\n",
      " 50%|█████     | 4/8 [00:02<00:02,  1.41it/s, avg_loss=0.143]\u001b[A\u001b[A\n",
      "\n",
      " 50%|█████     | 4/8 [00:03<00:02,  1.41it/s, avg_loss=0.132]\u001b[A\u001b[A\n",
      "\n",
      " 62%|██████▎   | 5/8 [00:03<00:02,  1.30it/s, avg_loss=0.132]\u001b[A\u001b[A\n",
      "\n",
      " 62%|██████▎   | 5/8 [00:04<00:02,  1.30it/s, avg_loss=0.128]\u001b[A\u001b[A\n",
      "\n",
      " 75%|███████▌  | 6/8 [00:04<00:01,  1.29it/s, avg_loss=0.128]\u001b[A\u001b[A\n",
      "\n",
      " 75%|███████▌  | 6/8 [00:05<00:01,  1.29it/s, avg_loss=0.128]\u001b[A\u001b[A\n",
      "\n",
      " 88%|████████▊ | 7/8 [00:05<00:00,  1.33it/s, avg_loss=0.128]\u001b[A\u001b[A\n",
      "\n",
      " 88%|████████▊ | 7/8 [00:05<00:00,  1.33it/s, avg_loss=1.44] \u001b[A\u001b[A\n",
      "\n",
      "100%|██████████| 8/8 [00:05<00:00,  1.75it/s, avg_loss=1.44]\u001b[A\u001b[A\n",
      "\n",
      "\u001b[A\u001b[A\n",
      "\n",
      "  0%|          | 0/8 [00:00<?, ?it/s]\u001b[A\u001b[A"
     ]
    },
    {
     "name": "stdout",
     "output_type": "stream",
     "text": [
      "[E:17]\tTrain Loss: 0.127\tDev score: 0.848\n"
     ]
    },
    {
     "name": "stderr",
     "output_type": "stream",
     "text": [
      "\n",
      "\n",
      "  0%|          | 0/8 [00:00<?, ?it/s, avg_loss=0.159]\u001b[A\u001b[A\n",
      "\n",
      " 12%|█▎        | 1/8 [00:00<00:05,  1.25it/s, avg_loss=0.159]\u001b[A\u001b[A\n",
      "\n",
      " 12%|█▎        | 1/8 [00:01<00:05,  1.25it/s, avg_loss=0.149]\u001b[A\u001b[A\n",
      "\n",
      " 25%|██▌       | 2/8 [00:01<00:04,  1.24it/s, avg_loss=0.149]\u001b[A\u001b[A\n",
      "\n",
      " 25%|██▌       | 2/8 [00:02<00:04,  1.24it/s, avg_loss=0.143]\u001b[A\u001b[A\n",
      "\n",
      " 38%|███▊      | 3/8 [00:02<00:04,  1.24it/s, avg_loss=0.143]\u001b[A\u001b[A\n",
      "\n",
      " 38%|███▊      | 3/8 [00:03<00:04,  1.24it/s, avg_loss=0.14] \u001b[A\u001b[A\n",
      "\n",
      " 50%|█████     | 4/8 [00:03<00:03,  1.14it/s, avg_loss=0.14]\u001b[A\u001b[A\n",
      "\n",
      " 50%|█████     | 4/8 [00:04<00:03,  1.14it/s, avg_loss=0.13]\u001b[A\u001b[A\n",
      "\n",
      " 62%|██████▎   | 5/8 [00:04<00:02,  1.16it/s, avg_loss=0.13]\u001b[A\u001b[A\n",
      "\n",
      " 62%|██████▎   | 5/8 [00:05<00:02,  1.16it/s, avg_loss=0.126]\u001b[A\u001b[A\n",
      "\n",
      " 75%|███████▌  | 6/8 [00:05<00:01,  1.22it/s, avg_loss=0.126]\u001b[A\u001b[A\n",
      "\n",
      " 75%|███████▌  | 6/8 [00:05<00:01,  1.22it/s, avg_loss=0.126]\u001b[A\u001b[A\n",
      "\n",
      " 88%|████████▊ | 7/8 [00:05<00:00,  1.28it/s, avg_loss=0.126]\u001b[A\u001b[A\n",
      "\n",
      " 88%|████████▊ | 7/8 [00:05<00:00,  1.28it/s, avg_loss=1.41] \u001b[A\u001b[A\n",
      "\n",
      "100%|██████████| 8/8 [00:05<00:00,  1.69it/s, avg_loss=1.41]\u001b[A\u001b[A\n",
      "\n",
      "\u001b[A\u001b[A\n",
      "\n",
      "  0%|          | 0/8 [00:00<?, ?it/s]\u001b[A\u001b[A"
     ]
    },
    {
     "name": "stdout",
     "output_type": "stream",
     "text": [
      "Saving model at iteration 18 with best score 0.850\n",
      "[E:18]\tTrain Loss: 0.125\tDev score: 0.850\n"
     ]
    },
    {
     "name": "stderr",
     "output_type": "stream",
     "text": [
      "\n",
      "\n",
      "  0%|          | 0/8 [00:00<?, ?it/s, avg_loss=0.155]\u001b[A\u001b[A\n",
      "\n",
      " 12%|█▎        | 1/8 [00:00<00:05,  1.35it/s, avg_loss=0.155]\u001b[A\u001b[A\n",
      "\n",
      " 12%|█▎        | 1/8 [00:01<00:05,  1.35it/s, avg_loss=0.145]\u001b[A\u001b[A\n",
      "\n",
      " 25%|██▌       | 2/8 [00:01<00:04,  1.29it/s, avg_loss=0.145]\u001b[A\u001b[A\n",
      "\n",
      " 25%|██▌       | 2/8 [00:02<00:04,  1.29it/s, avg_loss=0.14] \u001b[A\u001b[A\n",
      "\n",
      " 38%|███▊      | 3/8 [00:02<00:04,  1.19it/s, avg_loss=0.14]\u001b[A\u001b[A\n",
      "\n",
      " 38%|███▊      | 3/8 [00:03<00:04,  1.19it/s, avg_loss=0.138]\u001b[A\u001b[A\n",
      "\n",
      " 50%|█████     | 4/8 [00:03<00:03,  1.03it/s, avg_loss=0.138]\u001b[A\u001b[A\n",
      "\n",
      " 50%|█████     | 4/8 [00:04<00:03,  1.03it/s, avg_loss=0.127]\u001b[A\u001b[A\n",
      "\n",
      " 62%|██████▎   | 5/8 [00:04<00:02,  1.01it/s, avg_loss=0.127]\u001b[A\u001b[A\n",
      "\n",
      " 62%|██████▎   | 5/8 [00:05<00:02,  1.01it/s, avg_loss=0.124]\u001b[A\u001b[A\n",
      "\n",
      " 75%|███████▌  | 6/8 [00:05<00:01,  1.04it/s, avg_loss=0.124]\u001b[A\u001b[A\n",
      "\n",
      " 75%|███████▌  | 6/8 [00:06<00:01,  1.04it/s, avg_loss=0.124]\u001b[A\u001b[A\n",
      "\n",
      " 88%|████████▊ | 7/8 [00:06<00:00,  1.07it/s, avg_loss=0.124]\u001b[A\u001b[A\n",
      "\n",
      " 88%|████████▊ | 7/8 [00:06<00:00,  1.07it/s, avg_loss=1.39] \u001b[A\u001b[A\n",
      "\n",
      "100%|██████████| 8/8 [00:06<00:00,  1.38it/s, avg_loss=1.39]\u001b[A\u001b[A\n",
      "\n",
      "\u001b[A\u001b[A"
     ]
    },
    {
     "name": "stdout",
     "output_type": "stream",
     "text": [
      "Saving model at iteration 19 with best score 0.865\n",
      "[E:19]\tTrain Loss: 0.123\tDev score: 0.865\n",
      "Restoring best model from iteration 19 with score 0.865\n",
      "Finished Training\n",
      "Accuracy: 0.865\n",
      "        y=1    y=2   \n",
      " l=1     9      1    \n",
      " l=2    60     383   \n",
      "============================================================\n",
      "[SUMMARY]\n",
      "Best model: [0]\n",
      "Best config: {'l2': 0.001, 'lr': 0.020702566920833793}\n",
      "Best score: 0.8653421633554084\n",
      "============================================================\n"
     ]
    },
    {
     "name": "stderr",
     "output_type": "stream",
     "text": [
      "/lfs/raiders3/0/senwu/.venv/lib/python3.6/site-packages/metal/classifier.py:523: RuntimeWarning: invalid value encountered in less\n",
      "  max_idxs = np.where(diffs[i, :] < TOL)[0]\n"
     ]
    },
    {
     "ename": "ValueError",
     "evalue": "'a' cannot be empty unless no samples are taken",
     "output_type": "error",
     "traceback": [
      "\u001b[0;31m---------------------------------------------------------------------------\u001b[0m",
      "\u001b[0;31mValueError\u001b[0m                                Traceback (most recent call last)",
      "\u001b[0;32m<ipython-input-197-864d037a2e71>\u001b[0m in \u001b[0;36m<module>\u001b[0;34m\u001b[0m\n\u001b[1;32m     66\u001b[0m \u001b[0;31m# Evaluating model\u001b[0m\u001b[0;34m\u001b[0m\u001b[0;34m\u001b[0m\u001b[0m\n\u001b[1;32m     67\u001b[0m scores = end_model.score(\n\u001b[0;32m---> 68\u001b[0;31m     \u001b[0mtest_loader\u001b[0m\u001b[0;34m,\u001b[0m \u001b[0mmetric\u001b[0m\u001b[0;34m=\u001b[0m\u001b[0;34m[\u001b[0m\u001b[0;34m\"accuracy\"\u001b[0m\u001b[0;34m,\u001b[0m \u001b[0;34m\"precision\"\u001b[0m\u001b[0;34m,\u001b[0m \u001b[0;34m\"recall\"\u001b[0m\u001b[0;34m,\u001b[0m \u001b[0;34m\"f1\"\u001b[0m\u001b[0;34m,\u001b[0m \u001b[0;34m\"roc-auc\"\u001b[0m\u001b[0;34m]\u001b[0m\u001b[0;34m\u001b[0m\u001b[0m\n\u001b[0m\u001b[1;32m     69\u001b[0m )\n\u001b[1;32m     70\u001b[0m \u001b[0;34m\u001b[0m\u001b[0m\n",
      "\u001b[0;32m/lfs/raiders3/0/senwu/.venv/lib/python3.6/site-packages/metal/classifier.py\u001b[0m in \u001b[0;36mscore\u001b[0;34m(self, data, metric, break_ties, verbose, print_confusion_matrix, **kwargs)\u001b[0m\n\u001b[1;32m    411\u001b[0m         \"\"\"\n\u001b[1;32m    412\u001b[0m         Y_p, Y, Y_s = self._get_predictions(\n\u001b[0;32m--> 413\u001b[0;31m             \u001b[0mdata\u001b[0m\u001b[0;34m,\u001b[0m \u001b[0mbreak_ties\u001b[0m\u001b[0;34m=\u001b[0m\u001b[0mbreak_ties\u001b[0m\u001b[0;34m,\u001b[0m \u001b[0mreturn_probs\u001b[0m\u001b[0;34m=\u001b[0m\u001b[0;32mTrue\u001b[0m\u001b[0;34m,\u001b[0m \u001b[0;34m**\u001b[0m\u001b[0mkwargs\u001b[0m\u001b[0;34m\u001b[0m\u001b[0m\n\u001b[0m\u001b[1;32m    414\u001b[0m         )\n\u001b[1;32m    415\u001b[0m \u001b[0;34m\u001b[0m\u001b[0m\n",
      "\u001b[0;32m/lfs/raiders3/0/senwu/.venv/lib/python3.6/site-packages/metal/classifier.py\u001b[0m in \u001b[0;36m_get_predictions\u001b[0;34m(self, data, break_ties, return_probs, **kwargs)\u001b[0m\n\u001b[1;32m    466\u001b[0m             \u001b[0;31m# Append predictions and labels from DataLoader\u001b[0m\u001b[0;34m\u001b[0m\u001b[0;34m\u001b[0m\u001b[0m\n\u001b[1;32m    467\u001b[0m             Y_pb, Y_sb = self.predict(\n\u001b[0;32m--> 468\u001b[0;31m                 \u001b[0mXb\u001b[0m\u001b[0;34m,\u001b[0m \u001b[0mbreak_ties\u001b[0m\u001b[0;34m=\u001b[0m\u001b[0mbreak_ties\u001b[0m\u001b[0;34m,\u001b[0m \u001b[0mreturn_probs\u001b[0m\u001b[0;34m=\u001b[0m\u001b[0;32mTrue\u001b[0m\u001b[0;34m,\u001b[0m \u001b[0;34m**\u001b[0m\u001b[0mkwargs\u001b[0m\u001b[0;34m\u001b[0m\u001b[0m\n\u001b[0m\u001b[1;32m    469\u001b[0m             )\n\u001b[1;32m    470\u001b[0m             \u001b[0mY_p\u001b[0m\u001b[0;34m.\u001b[0m\u001b[0mappend\u001b[0m\u001b[0;34m(\u001b[0m\u001b[0mself\u001b[0m\u001b[0;34m.\u001b[0m\u001b[0m_to_numpy\u001b[0m\u001b[0;34m(\u001b[0m\u001b[0mY_pb\u001b[0m\u001b[0;34m)\u001b[0m\u001b[0;34m)\u001b[0m\u001b[0;34m\u001b[0m\u001b[0m\n",
      "\u001b[0;32m/lfs/raiders3/0/senwu/.venv/lib/python3.6/site-packages/metal/classifier.py\u001b[0m in \u001b[0;36mpredict\u001b[0;34m(self, X, break_ties, return_probs, **kwargs)\u001b[0m\n\u001b[1;32m    489\u001b[0m         \"\"\"\n\u001b[1;32m    490\u001b[0m         \u001b[0mY_s\u001b[0m \u001b[0;34m=\u001b[0m \u001b[0mself\u001b[0m\u001b[0;34m.\u001b[0m\u001b[0m_to_numpy\u001b[0m\u001b[0;34m(\u001b[0m\u001b[0mself\u001b[0m\u001b[0;34m.\u001b[0m\u001b[0mpredict_proba\u001b[0m\u001b[0;34m(\u001b[0m\u001b[0mX\u001b[0m\u001b[0;34m,\u001b[0m \u001b[0;34m**\u001b[0m\u001b[0mkwargs\u001b[0m\u001b[0;34m)\u001b[0m\u001b[0;34m)\u001b[0m\u001b[0;34m\u001b[0m\u001b[0m\n\u001b[0;32m--> 491\u001b[0;31m         \u001b[0mY_p\u001b[0m \u001b[0;34m=\u001b[0m \u001b[0mself\u001b[0m\u001b[0;34m.\u001b[0m\u001b[0m_break_ties\u001b[0m\u001b[0;34m(\u001b[0m\u001b[0mY_s\u001b[0m\u001b[0;34m,\u001b[0m \u001b[0mbreak_ties\u001b[0m\u001b[0;34m)\u001b[0m\u001b[0;34m.\u001b[0m\u001b[0mastype\u001b[0m\u001b[0;34m(\u001b[0m\u001b[0mnp\u001b[0m\u001b[0;34m.\u001b[0m\u001b[0mint\u001b[0m\u001b[0;34m)\u001b[0m\u001b[0;34m\u001b[0m\u001b[0m\n\u001b[0m\u001b[1;32m    492\u001b[0m         \u001b[0;32mif\u001b[0m \u001b[0mreturn_probs\u001b[0m\u001b[0;34m:\u001b[0m\u001b[0;34m\u001b[0m\u001b[0m\n\u001b[1;32m    493\u001b[0m             \u001b[0;32mreturn\u001b[0m \u001b[0mY_p\u001b[0m\u001b[0;34m,\u001b[0m \u001b[0mY_s\u001b[0m\u001b[0;34m\u001b[0m\u001b[0m\n",
      "\u001b[0;32m/lfs/raiders3/0/senwu/.venv/lib/python3.6/site-packages/metal/classifier.py\u001b[0m in \u001b[0;36m_break_ties\u001b[0;34m(self, Y_s, break_ties)\u001b[0m\n\u001b[1;32m    526\u001b[0m             \u001b[0;31m# Deal with 'tie votes' according to the specified policy\u001b[0m\u001b[0;34m\u001b[0m\u001b[0;34m\u001b[0m\u001b[0m\n\u001b[1;32m    527\u001b[0m             \u001b[0;32melif\u001b[0m \u001b[0mbreak_ties\u001b[0m \u001b[0;34m==\u001b[0m \u001b[0;34m\"random\"\u001b[0m\u001b[0;34m:\u001b[0m\u001b[0;34m\u001b[0m\u001b[0m\n\u001b[0;32m--> 528\u001b[0;31m                 \u001b[0mY_h\u001b[0m\u001b[0;34m[\u001b[0m\u001b[0mi\u001b[0m\u001b[0;34m]\u001b[0m \u001b[0;34m=\u001b[0m \u001b[0mnp\u001b[0m\u001b[0;34m.\u001b[0m\u001b[0mrandom\u001b[0m\u001b[0;34m.\u001b[0m\u001b[0mchoice\u001b[0m\u001b[0;34m(\u001b[0m\u001b[0mmax_idxs\u001b[0m\u001b[0;34m)\u001b[0m \u001b[0;34m+\u001b[0m \u001b[0;36m1\u001b[0m\u001b[0;34m\u001b[0m\u001b[0m\n\u001b[0m\u001b[1;32m    529\u001b[0m             \u001b[0;32melif\u001b[0m \u001b[0mbreak_ties\u001b[0m \u001b[0;34m==\u001b[0m \u001b[0;34m\"abstain\"\u001b[0m\u001b[0;34m:\u001b[0m\u001b[0;34m\u001b[0m\u001b[0m\n\u001b[1;32m    530\u001b[0m                 \u001b[0mY_h\u001b[0m\u001b[0;34m[\u001b[0m\u001b[0mi\u001b[0m\u001b[0;34m]\u001b[0m \u001b[0;34m=\u001b[0m \u001b[0;36m0\u001b[0m\u001b[0;34m\u001b[0m\u001b[0m\n",
      "\u001b[0;32mmtrand.pyx\u001b[0m in \u001b[0;36mmtrand.RandomState.choice\u001b[0;34m()\u001b[0m\n",
      "\u001b[0;31mValueError\u001b[0m: 'a' cannot be empty unless no samples are taken"
     ]
    }
   ],
   "source": [
    "from metal.tuners import RandomSearchTuner\n",
    "from metal.contrib.logging.tensorboard import TensorBoardWriter\n",
    "\n",
    "log_config = {\"log_dir\": \"./run_logs\", \"run_name\": \"image\"}\n",
    "\n",
    "tuner_config = {\"max_search\": 1}\n",
    "search_space = {\n",
    "    \"l2\": [0.001, 0.0001, 0.00001],  # linear range\n",
    "    \"lr\": {\"range\": [0.0001, 0.1], \"scale\": \"log\"},  # log range\n",
    "}\n",
    "\n",
    "\n",
    "train_config = em_config[\"train_config\"]\n",
    "\n",
    "\n",
    "# Defining network parameters\n",
    "num_classes = 2\n",
    "fc_size = 2\n",
    "hidden_size = 2\n",
    "pretrained = True\n",
    "\n",
    "# Set CUDA device\n",
    "torch.cuda.set_device(1)\n",
    "# os.environ['CUDA_VISIBLE_DEVICES']='0'\n",
    "\n",
    "# Initializing input module\n",
    "input_module = get_cnn(\"resnet18\", pretrained=pretrained, num_classes=num_classes)\n",
    "\n",
    "\n",
    "# Initializing model object\n",
    "init_args = [[num_classes]]\n",
    "init_kwargs = {\"input_module\": input_module}\n",
    "init_kwargs.update(em_config)\n",
    "\n",
    "# init_kwargs.update(em_config)\n",
    "# max_search = tuner_config['max_search']\n",
    "# metric = train_config['validation_metric']\n",
    "\n",
    "# Training model as a single pass\n",
    "# if args.single_pass:\n",
    "# end_model = EndModel(\n",
    "#    [hidden_size, fc_size, num_classes],\n",
    "#    input_module=input_module,use_cuda='True'\n",
    "#     **em_config\n",
    "# )\n",
    "# end_model.train_model(\n",
    "#    train_data=train_loader,\n",
    "#    dev_data=dev_loader,\n",
    "#     **train_config\n",
    "# )\n",
    "\n",
    "# Searching model\n",
    "# else:\n",
    "searcher = RandomSearchTuner(EndModel, **log_config)\n",
    "\n",
    "end_model = searcher.search(\n",
    "    search_space,\n",
    "    dev_loader,\n",
    "    train_args=[train_loader],\n",
    "    init_args=init_args,\n",
    "    init_kwargs=init_kwargs,\n",
    "    train_kwargs=train_config,\n",
    "    max_search=tuner_config[\"max_search\"],\n",
    ")\n",
    "\n",
    "# Evaluating model\n",
    "scores = end_model.score(\n",
    "    test_loader, metric=[\"accuracy\", \"precision\", \"recall\", \"f1\", \"roc-auc\"]\n",
    ")\n",
    "\n",
    "labels, _, probs = end_model._get_predictions(test_loader, return_probs=True)"
   ]
  },
  {
   "cell_type": "markdown",
   "metadata": {},
   "source": [
    "```\n",
    "============================================================\n",
    "[SUMMARY]\n",
    "Best model: [0]\n",
    "Best config: {'l2': 0.0001, 'lr': 0.0010025532524850966}\n",
    "Best score: 0.9955849889624724\n",
    "============================================================\n",
    "Accuracy: 0.926\n",
    "Precision: 0.675\n",
    "Recall: 0.856\n",
    "F1: 0.755\n",
    "Roc-auc: 0.964\n",
    "        y=1    y=2   \n",
    " l=1    137    66    \n",
    " l=2    23     982   \n",
    "```"
   ]
  },
  {
   "cell_type": "code",
   "execution_count": 190,
   "metadata": {},
   "outputs": [],
   "source": [
    "pred_dict = {}\n",
    "\n",
    "for c, y in zip(test_cands[0], probs[:,0]):\n",
    "    doc_file_id = f\"{c[0].context.figure.document.name.lower()}.pdf::{os.path.basename(c[0].context.figure.url.lower())}\"\n",
    "    pred_dict[doc_file_id] = y"
   ]
  },
  {
   "cell_type": "code",
   "execution_count": 191,
   "metadata": {},
   "outputs": [],
   "source": [
    "all_test_fig_id = set()\n",
    "\n",
    "for doc in test_docs:\n",
    "    for fig in doc.figures:\n",
    "        doc_file_id = f\"{doc.name.lower()}.pdf::{os.path.basename(fig.url.lower())}\"\n",
    "        all_test_fig_id.add(doc_file_id)"
   ]
  },
  {
   "cell_type": "code",
   "execution_count": 196,
   "metadata": {},
   "outputs": [
    {
     "data": {
      "text/plain": [
       "(109, 72, 53, 0.6022099447513812, 0.6728395061728395, 0.6355685131195336)"
      ]
     },
     "execution_count": 196,
     "metadata": {},
     "output_type": "execute_result"
    }
   ],
   "source": [
    "b = 0.7\n",
    "\n",
    "tp = 0\n",
    "fp = 0\n",
    "fn = 0\n",
    "\n",
    "for id in all_test_fig_id:\n",
    "    if id in gt:\n",
    "        p = True\n",
    "    else: p = False\n",
    "    if id in pred_dict and pred_dict[id] >= b:\n",
    "        t = True\n",
    "    else: t = False\n",
    "    \n",
    "    if t and p: tp += 1\n",
    "    if t and not p: fp += 1\n",
    "    if not t and p: fn += 1\n",
    "\n",
    "prec = tp / (tp + fp)\n",
    "rec = tp / (tp + fn)\n",
    "f1 = 2 * prec * rec / (prec + rec)\n",
    "\n",
    "tp, fp, fn, prec, rec, f1"
   ]
  },
  {
   "cell_type": "code",
   "execution_count": null,
   "metadata": {},
   "outputs": [],
   "source": []
  }
 ],
 "metadata": {
  "kernelspec": {
   "display_name": "Python 3",
   "language": "python",
   "name": "python3"
  },
  "language_info": {
   "codemirror_mode": {
    "name": "ipython",
    "version": 3
   },
   "file_extension": ".py",
   "mimetype": "text/x-python",
   "name": "python",
   "nbconvert_exporter": "python",
   "pygments_lexer": "ipython3",
   "version": "3.6.3"
  }
 },
 "nbformat": 4,
 "nbformat_minor": 2
}
